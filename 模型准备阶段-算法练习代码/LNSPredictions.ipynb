{
 "cells": [
  {
   "cell_type": "raw",
   "metadata": {
    "ExecuteTime": {
     "end_time": "2020-08-26T13:08:04.848684Z",
     "start_time": "2020-08-26T13:08:04.827715Z"
    }
   },
   "source": [
    "该脚本提取并计算平均值、标准差和方差，并将它们添加为新列。"
   ]
  },
  {
   "cell_type": "code",
   "execution_count": 4,
   "metadata": {
    "ExecuteTime": {
     "end_time": "2020-08-26T13:27:58.581024Z",
     "start_time": "2020-08-26T13:27:58.502186Z"
    }
   },
   "outputs": [],
   "source": [
    "import csv\n",
    "import  statistics as st "
   ]
  },
  {
   "cell_type": "raw",
   "metadata": {},
   "source": [
    "该函数读取数据，进行相关计算并写入新脚本。"
   ]
  },
  {
   "cell_type": "code",
   "execution_count": 5,
   "metadata": {
    "ExecuteTime": {
     "end_time": "2020-08-26T13:31:26.855649Z",
     "start_time": "2020-08-26T13:31:26.841690Z"
    }
   },
   "outputs": [],
   "source": [
    "def computeFeatures(infile, outfile, desiredCols):\n",
    "    # 使用with_open synthax打开和关闭文件\n",
    "    with open(outfile, 'wt') as outputfile, open(infile, 'rt') as inputfile:\n",
    "        oldData = csv.reader(inputfile)\n",
    "        headers = []\n",
    "        allColHeaders = oldData.next()\n",
    "        headers.extend(allColHeaders)\n",
    "        newCols = [\"MachineMean\", \"MachineStd\", \"MachineVariance\"]\n",
    "        headers.extend(newCols)\n",
    "        outputSCVFile = csv.writer(outputfile)\n",
    "\n",
    "        # 写列标题使输出数据有意义\n",
    "        outputSCVFile.writerow(headers)\n",
    "\n",
    "        for row in oldData:\n",
    "            unProcessedData = []\n",
    "            for header in desiredCols:\n",
    "                colIndex = allColHeaders.index(header)\n",
    "                colVal = row[colIndex]\n",
    "                unProcessedData.append(int(colVal))\n",
    "\n",
    "\t    #再加上均值，标准差，方差\n",
    "            row.insert(len(row), st.mean(unProcessedData))\n",
    "            row.insert(len(row), st.stdev(unProcessedData))\n",
    "            row.insert(len(row), st.variance(unProcessedData))\n",
    "\n",
    "            # write to new row to file\n",
    "            outputSCVFile.writerow(row)\n",
    "\n",
    "            #end of function  "
   ]
  },
  {
   "cell_type": "code",
   "execution_count": 6,
   "metadata": {
    "ExecuteTime": {
     "end_time": "2020-08-26T13:31:39.167451Z",
     "start_time": "2020-08-26T13:31:39.159463Z"
    }
   },
   "outputs": [],
   "source": [
    "targetCols = [\"Machine1\",\"Machine2\",\"Machine3\",\"Machine4\",\"Machine5\"]"
   ]
  },
  {
   "cell_type": "code",
   "execution_count": 7,
   "metadata": {
    "ExecuteTime": {
     "end_time": "2020-08-26T13:33:17.903461Z",
     "start_time": "2020-08-26T13:33:17.885509Z"
    }
   },
   "outputs": [
    {
     "ename": "AttributeError",
     "evalue": "'_csv.reader' object has no attribute 'next'",
     "output_type": "error",
     "traceback": [
      "\u001b[1;31m---------------------------------------------------------------------------\u001b[0m",
      "\u001b[1;31mAttributeError\u001b[0m                            Traceback (most recent call last)",
      "\u001b[1;32m<ipython-input-7-363319404558>\u001b[0m in \u001b[0;36m<module>\u001b[1;34m\u001b[0m\n\u001b[1;32m----> 1\u001b[1;33m \u001b[0mcomputeFeatures\u001b[0m\u001b[1;33m(\u001b[0m\u001b[1;34m\"G:/CDO/海上风电场/LNS/LNsPredictions-master/data/dataWithAddedFeatures.csv\"\u001b[0m\u001b[1;33m,\u001b[0m \u001b[1;34m\"G:/CDO/海上风电场/LNS/LNsPredictions-master/data/dataWithAddedFeaturesWithMachine.csv\"\u001b[0m\u001b[1;33m,\u001b[0m \u001b[0mtargetCols\u001b[0m\u001b[1;33m)\u001b[0m\u001b[1;33m\u001b[0m\u001b[1;33m\u001b[0m\u001b[0m\n\u001b[0m",
      "\u001b[1;32m<ipython-input-5-452e53359267>\u001b[0m in \u001b[0;36mcomputeFeatures\u001b[1;34m(infile, outfile, desiredCols)\u001b[0m\n\u001b[0;32m      4\u001b[0m         \u001b[0moldData\u001b[0m \u001b[1;33m=\u001b[0m \u001b[0mcsv\u001b[0m\u001b[1;33m.\u001b[0m\u001b[0mreader\u001b[0m\u001b[1;33m(\u001b[0m\u001b[0minputfile\u001b[0m\u001b[1;33m)\u001b[0m\u001b[1;33m\u001b[0m\u001b[1;33m\u001b[0m\u001b[0m\n\u001b[0;32m      5\u001b[0m         \u001b[0mheaders\u001b[0m \u001b[1;33m=\u001b[0m \u001b[1;33m[\u001b[0m\u001b[1;33m]\u001b[0m\u001b[1;33m\u001b[0m\u001b[1;33m\u001b[0m\u001b[0m\n\u001b[1;32m----> 6\u001b[1;33m         \u001b[0mallColHeaders\u001b[0m \u001b[1;33m=\u001b[0m \u001b[0moldData\u001b[0m\u001b[1;33m.\u001b[0m\u001b[0mnext\u001b[0m\u001b[1;33m(\u001b[0m\u001b[1;33m)\u001b[0m\u001b[1;33m\u001b[0m\u001b[1;33m\u001b[0m\u001b[0m\n\u001b[0m\u001b[0;32m      7\u001b[0m         \u001b[0mheaders\u001b[0m\u001b[1;33m.\u001b[0m\u001b[0mextend\u001b[0m\u001b[1;33m(\u001b[0m\u001b[0mallColHeaders\u001b[0m\u001b[1;33m)\u001b[0m\u001b[1;33m\u001b[0m\u001b[1;33m\u001b[0m\u001b[0m\n\u001b[0;32m      8\u001b[0m         \u001b[0mnewCols\u001b[0m \u001b[1;33m=\u001b[0m \u001b[1;33m[\u001b[0m\u001b[1;34m\"MachineMean\"\u001b[0m\u001b[1;33m,\u001b[0m \u001b[1;34m\"MachineStd\"\u001b[0m\u001b[1;33m,\u001b[0m \u001b[1;34m\"MachineVariance\"\u001b[0m\u001b[1;33m]\u001b[0m\u001b[1;33m\u001b[0m\u001b[1;33m\u001b[0m\u001b[0m\n",
      "\u001b[1;31mAttributeError\u001b[0m: '_csv.reader' object has no attribute 'next'"
     ]
    }
   ],
   "source": [
    "computeFeatures(\"G:/CDO/海上风电场/LNS/LNsPredictions-master/data/dataWithAddedFeatures.csv\", \"G:/CDO/海上风电场/LNS/LNsPredictions-master/data/dataWithAddedFeaturesWithMachine.csv\", targetCols)"
   ]
  },
  {
   "cell_type": "raw",
   "metadata": {},
   "source": [
    "这是一个多输出回归神经网络的实现。\n",
    "数据被读取为目标和特性以及~data/ train_targets.csv和~data/train_features.csv的输出"
   ]
  },
  {
   "cell_type": "code",
   "execution_count": 8,
   "metadata": {
    "ExecuteTime": {
     "end_time": "2020-08-26T13:40:28.606513Z",
     "start_time": "2020-08-26T13:40:28.145711Z"
    }
   },
   "outputs": [],
   "source": [
    "from sklearn.neural_network import MLPRegressor\n",
    "import csv\n",
    "import numpy as np\n",
    "from sklearn.metrics import r2_score"
   ]
  },
  {
   "cell_type": "code",
   "execution_count": 9,
   "metadata": {
    "ExecuteTime": {
     "end_time": "2020-08-26T13:42:06.441161Z",
     "start_time": "2020-08-26T13:42:06.434180Z"
    }
   },
   "outputs": [],
   "source": [
    "# 读取csv文件并返回该文件中数据的numpy数组的函数\n",
    "# 返回文件内容的数组\n",
    "def read_data(filename):\n",
    "    with open(filename, 'rt') as inputfile:\n",
    "        data = []  # 以数组形式读取行，稍后转换为numpy\n",
    "        all_data = csv.reader(inputfile)\n",
    "        # headers = all_data.__next() #skip headers\n",
    "\n",
    "        for row in all_data:\n",
    "            data.append(row)\n",
    "        # 将数据转换为numpy数组，以便于操作\n",
    "        data_in_numpy = np.array(data, dtype='float')\n",
    "        return data_in_numpy   "
   ]
  },
  {
   "cell_type": "code",
   "execution_count": null,
   "metadata": {},
   "outputs": [],
   "source": [
    "# 读取不同的文件\n",
    "features = read_data(\"../data/train_features.csv\")\n",
    "targets = read_data(\"../data/train_targets.csv\")\n",
    "test_features = read_data(\"../data/test_features.csv\")\n",
    "test_targets = read_data(\"../data/test_targets.csv\")"
   ]
  },
  {
   "cell_type": "code",
   "execution_count": null,
   "metadata": {},
   "outputs": [],
   "source": [
    "# 用tanh激活和随机梯度作为求解器初始化神经回归器。学习率是自适应的\n",
    "wizard = MLPRegressor(hidden_layer_sizes=10000, activation='tanh', solver='adam')\n",
    "# 适合特征和相应的目标\n",
    "wizard.fit(features, targets)\n",
    "\n",
    "# 测试模型\n",
    "predicted_targets = wizard.predict(test_features)\n",
    "\n",
    "print(predicted_targets)\n",
    "print(test_targets)\n",
    "\n",
    "# 得到预测的分数\n",
    "score = r2_score(test_targets, predicted_targets)\n",
    "\n",
    "print(score)"
   ]
  }
 ],
 "metadata": {
  "kernelspec": {
   "display_name": "Python 3",
   "language": "python",
   "name": "python3"
  },
  "language_info": {
   "codemirror_mode": {
    "name": "ipython",
    "version": 3
   },
   "file_extension": ".py",
   "mimetype": "text/x-python",
   "name": "python",
   "nbconvert_exporter": "python",
   "pygments_lexer": "ipython3",
   "version": "3.7.6"
  },
  "latex_envs": {
   "LaTeX_envs_menu_present": true,
   "autoclose": false,
   "autocomplete": true,
   "bibliofile": "biblio.bib",
   "cite_by": "apalike",
   "current_citInitial": 1,
   "eqLabelWithNumbers": true,
   "eqNumInitial": 1,
   "hotkeys": {
    "equation": "Ctrl-E",
    "itemize": "Ctrl-I"
   },
   "labels_anchors": false,
   "latex_user_defs": false,
   "report_style_numbering": false,
   "user_envs_cfg": false
  },
  "nbTranslate": {
   "displayLangs": [
    "*"
   ],
   "hotkey": "alt-t",
   "langInMainMenu": true,
   "sourceLang": "en",
   "targetLang": "fr",
   "useGoogleTranslate": true
  },
  "toc": {
   "base_numbering": 1,
   "nav_menu": {},
   "number_sections": true,
   "sideBar": true,
   "skip_h1_title": false,
   "title_cell": "Table of Contents",
   "title_sidebar": "Contents",
   "toc_cell": false,
   "toc_position": {},
   "toc_section_display": true,
   "toc_window_display": false
  }
 },
 "nbformat": 4,
 "nbformat_minor": 4
}
