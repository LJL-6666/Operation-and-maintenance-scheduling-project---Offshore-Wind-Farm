{
 "cells": [
  {
   "cell_type": "raw",
   "metadata": {},
   "source": [
    "SimRank计算\n",
    "由于 SimRank 相似度是{\\displaystyle s(a,b)}s(a,b)是通过递归定义的，因此可能依赖于图中其他结点对的相似度，这给计算网络图中结点间的相似度值带来很大的困难，尤其当整个图的结点数很多点，SimRank具有很高的时间复杂度。现有的 SimRank 相似度计算方法主要分两大类：\n",
    "\n",
    "（1）SimRank 确定性计算\n",
    "\n",
    "这类方法主要基于不动点迭代来求解 SimRank 的值，其优点是计算精度较高，但时间复杂度相当大。对于一个网络图{\\displaystyle G=(V,E)}G=(V,E)来说，传统的直接迭代法[1]计算所有结点对的相似度需要{\\displaystyle O(K{|E|}^{2})}O(K{|E|}^{2})的时间复杂度和{\\displaystyle O({|V|}^{2})}O({|V|}^{2})的内存，其中{\\displaystyle K}K为总的迭代次数。文献[2]和[3]是当前计算所有结点对SimRank相似度的最有效算法。\n",
    "\n",
    "（2）SimRank 随机算法\n",
    "\n",
    "该方法主要基于蒙特卡罗法模拟，将两结点间 SimRank 的相似度{\\displaystyle s(a,b)}s(a,b)表示为两个随机游走者分别从结点{\\displaystyle a}a和{\\displaystyle b}b出发到最后相遇的总时间{\\displaystyle \\tau (a,b)}\\tau (a,b)的期望函数，即\n",
    "\n",
    "{\\displaystyle {s(a,b)}=\\mathbb {E} (C^{\\tau (a,b)})}{s(a,b)}={\\mathbb  {E}}(C^{{\\tau (a,b)}})\n",
    "\n",
    "这种方法计算每一个结点对的时间和内存复杂度均为{\\displaystyle O(|V|)}O(|V|)，但带有一定的随机性，因此精度较低。"
   ]
  },
  {
   "cell_type": "markdown",
   "metadata": {},
   "source": [
    "#  迭代"
   ]
  },
  {
   "cell_type": "code",
   "execution_count": 2,
   "metadata": {
    "ExecuteTime": {
     "end_time": "2020-08-25T10:31:56.225777Z",
     "start_time": "2020-08-25T10:31:54.092778Z"
    }
   },
   "outputs": [
    {
     "name": "stderr",
     "output_type": "stream",
     "text": [
      "\n",
      "Bad key \"text.kerning_factor\" on line 4 in\n",
      "E:\\Anaconda3\\lib\\site-packages\\matplotlib\\mpl-data\\stylelib\\_classic_test_patch.mplstyle.\n",
      "You probably need to get an updated matplotlibrc file from\n",
      "https://github.com/matplotlib/matplotlib/blob/v3.1.3/matplotlibrc.template\n",
      "or from the matplotlib source distribution\n"
     ]
    }
   ],
   "source": [
    "from __future__ import division\n",
    "import numpy as np\n",
    "import snap\n",
    "import matplotlib.pyplot as plt\n",
    "import datetime    "
   ]
  },
  {
   "cell_type": "code",
   "execution_count": 3,
   "metadata": {
    "ExecuteTime": {
     "end_time": "2020-08-25T10:40:31.716988Z",
     "start_time": "2020-08-25T10:40:31.650138Z"
    }
   },
   "outputs": [],
   "source": [
    "def sim_truth(g,c,T):\n",
    "    '''该函数通过迭代计算g的simrank，其中c是衰减因子，T为轮数。返回simrank矩阵，使用MSE记录矩阵变化'''\n",
    "    N=g.GetNodes()\n",
    "    # M=g.GetEdges()\n",
    "    s=np.eye(N,N)\n",
    "    for t in range(T):\n",
    "        temp=np.eye(N,N)\n",
    "        for i in range(N):\n",
    "            Ni=g.GetNI(i)\n",
    "            DegOfI=Ni.GetInDeg()  #是一个整数\n",
    "            for j in range(i+1,N):\n",
    "                Nj=g.GetNI(j)\n",
    "                DegOfJ=Nj.GetInDeg()\n",
    "                InEdgeOfJ=Nj.GetInEdges()\n",
    "                InEdgeOfI = Ni.GetInEdges()  # 构思产生\n",
    "                # 对于邻居i和j的每个节点，将其simrank值相加\n",
    "                # InEdgeOfI and InEdgeOfJ are int generator\n",
    "                val=0.\n",
    "                if DegOfI and DegOfJ:\n",
    "                    for u in InEdgeOfI:\n",
    "                        for v in InEdgeOfJ:\n",
    "                            val+=s[u][v]\n",
    "                    val*=(c/DegOfI/DegOfJ)\n",
    "                temp[i][j]=val\n",
    "                temp[j][i]=val\n",
    "        s=temp\n",
    "    return s  "
   ]
  },
  {
   "cell_type": "code",
   "execution_count": 20,
   "metadata": {
    "ExecuteTime": {
     "end_time": "2020-08-25T12:10:25.504145Z",
     "start_time": "2020-08-25T12:10:25.499157Z"
    }
   },
   "outputs": [],
   "source": [
    "def main():\n",
    "    start=datetime.datetime.now()\n",
    "    g=snap.LoadEdgeList(snap.PNGraph,\"G:/CDO/海上风电场/蒙特卡洛模拟/simrank-master/email-Eu-core.txt\")\n",
    "    c=0.6\n",
    "    T=10\n",
    "    s=sim_truth(g,c,T)\n",
    "    np.save('G:/CDO/海上风电场/蒙特卡洛模拟/simrank-master/simrank.ipynb',s)\n",
    "    end=datetime.datetime.now()\n",
    "    print('total time: '+str((end-start).seconds)+' seconds') "
   ]
  },
  {
   "cell_type": "code",
   "execution_count": 21,
   "metadata": {
    "ExecuteTime": {
     "end_time": "2020-08-25T12:10:28.654971Z",
     "start_time": "2020-08-25T12:10:28.637985Z"
    }
   },
   "outputs": [
    {
     "ename": "AttributeError",
     "evalue": "module 'snap' has no attribute 'LoadEdgeList'",
     "output_type": "error",
     "traceback": [
      "\u001b[1;31m---------------------------------------------------------------------------\u001b[0m",
      "\u001b[1;31mAttributeError\u001b[0m                            Traceback (most recent call last)",
      "\u001b[1;32m<ipython-input-21-68fc34c81b28>\u001b[0m in \u001b[0;36m<module>\u001b[1;34m\u001b[0m\n\u001b[0;32m      1\u001b[0m \u001b[1;32mif\u001b[0m \u001b[0m__name__\u001b[0m\u001b[1;33m==\u001b[0m\u001b[1;34m\"__main__\"\u001b[0m\u001b[1;33m:\u001b[0m\u001b[1;33m\u001b[0m\u001b[1;33m\u001b[0m\u001b[0m\n\u001b[1;32m----> 2\u001b[1;33m     \u001b[0mmain\u001b[0m\u001b[1;33m(\u001b[0m\u001b[1;33m)\u001b[0m\u001b[1;33m\u001b[0m\u001b[1;33m\u001b[0m\u001b[0m\n\u001b[0m",
      "\u001b[1;32m<ipython-input-20-2ae1a1ba8e61>\u001b[0m in \u001b[0;36mmain\u001b[1;34m()\u001b[0m\n\u001b[0;32m      1\u001b[0m \u001b[1;32mdef\u001b[0m \u001b[0mmain\u001b[0m\u001b[1;33m(\u001b[0m\u001b[1;33m)\u001b[0m\u001b[1;33m:\u001b[0m\u001b[1;33m\u001b[0m\u001b[1;33m\u001b[0m\u001b[0m\n\u001b[0;32m      2\u001b[0m     \u001b[0mstart\u001b[0m\u001b[1;33m=\u001b[0m\u001b[0mdatetime\u001b[0m\u001b[1;33m.\u001b[0m\u001b[0mdatetime\u001b[0m\u001b[1;33m.\u001b[0m\u001b[0mnow\u001b[0m\u001b[1;33m(\u001b[0m\u001b[1;33m)\u001b[0m\u001b[1;33m\u001b[0m\u001b[1;33m\u001b[0m\u001b[0m\n\u001b[1;32m----> 3\u001b[1;33m     \u001b[0mg\u001b[0m\u001b[1;33m=\u001b[0m\u001b[0msnap\u001b[0m\u001b[1;33m.\u001b[0m\u001b[0mLoadEdgeList\u001b[0m\u001b[1;33m(\u001b[0m\u001b[0msnap\u001b[0m\u001b[1;33m.\u001b[0m\u001b[0mPNGraph\u001b[0m\u001b[1;33m,\u001b[0m\u001b[1;34m\"G:/CDO/海上风电场/蒙特卡洛模拟/simrank-master/email-Eu-core.txt\"\u001b[0m\u001b[1;33m)\u001b[0m\u001b[1;33m\u001b[0m\u001b[1;33m\u001b[0m\u001b[0m\n\u001b[0m\u001b[0;32m      4\u001b[0m     \u001b[0mc\u001b[0m\u001b[1;33m=\u001b[0m\u001b[1;36m0.6\u001b[0m\u001b[1;33m\u001b[0m\u001b[1;33m\u001b[0m\u001b[0m\n\u001b[0;32m      5\u001b[0m     \u001b[0mT\u001b[0m\u001b[1;33m=\u001b[0m\u001b[1;36m10\u001b[0m\u001b[1;33m\u001b[0m\u001b[1;33m\u001b[0m\u001b[0m\n",
      "\u001b[1;31mAttributeError\u001b[0m: module 'snap' has no attribute 'LoadEdgeList'"
     ]
    }
   ],
   "source": [
    "if __name__==\"__main__\":\n",
    "    main()"
   ]
  },
  {
   "cell_type": "markdown",
   "metadata": {},
   "source": [
    "# 运行"
   ]
  },
  {
   "cell_type": "code",
   "execution_count": 14,
   "metadata": {
    "ExecuteTime": {
     "end_time": "2020-08-25T12:06:29.784615Z",
     "start_time": "2020-08-25T12:06:29.778628Z"
    }
   },
   "outputs": [],
   "source": [
    "from __future__ import division\n",
    "import numpy as np\n",
    "import snap\n",
    "import datetime "
   ]
  },
  {
   "cell_type": "code",
   "execution_count": 15,
   "metadata": {
    "ExecuteTime": {
     "end_time": "2020-08-25T12:06:49.436444Z",
     "start_time": "2020-08-25T12:06:49.429471Z"
    }
   },
   "outputs": [],
   "source": [
    "def subroute(g,begin,l,visited):\n",
    "    factor=1.\n",
    "    walker=begin\n",
    "    for j in range(l):\n",
    "        Ni = g.GetNI(walker)\n",
    "        OutNeibors = list(Ni.GetOutEdges())\n",
    "        OutDeg = Ni.GetOutDeg()\n",
    "        if OutDeg==0:\n",
    "            break\n",
    "        walker=np.random.choice(OutNeibors)\n",
    "        if walker not in visited:\n",
    "            InDeg=g.GetNI(walker).GetInDeg()\n",
    "            factor*=OutDeg/InDeg\n",
    "        else:\n",
    "            break\n",
    "    else:\n",
    "        return factor,walker\n",
    "    return 0,walker   "
   ]
  },
  {
   "cell_type": "code",
   "execution_count": 16,
   "metadata": {
    "ExecuteTime": {
     "end_time": "2020-08-25T12:07:23.924964Z",
     "start_time": "2020-08-25T12:07:23.850162Z"
    }
   },
   "outputs": [],
   "source": [
    "def ssRWalk(u,c,L,R,g):\n",
    "    N=g.GetNodes()\n",
    "    ss=np.zeros(N)\n",
    "    ss[u]=R\n",
    "    for r in range(R):\n",
    "        walker=u\n",
    "        visited=set()\n",
    "        visited.add(walker)\n",
    "        for j in range(1,L+1):\n",
    "            Ni=g.GetNI(walker)\n",
    "            InNeibors=list(Ni.GetInEdges())\n",
    "            InDeg=Ni.GetInDeg()\n",
    "            if InDeg==0:\n",
    "                break\n",
    "            walker=np.random.choice(InNeibors)\n",
    "            if walker in visited:\n",
    "                break\n",
    "            visited.add(walker)\n",
    "            factor,end=subroute(g,walker,j,visited)\n",
    "            ss[end]+=factor*(c**j)\n",
    "    ss/=R\n",
    "    return ss   "
   ]
  },
  {
   "cell_type": "code",
   "execution_count": 17,
   "metadata": {
    "ExecuteTime": {
     "end_time": "2020-08-25T12:07:42.213925Z",
     "start_time": "2020-08-25T12:07:42.207941Z"
    }
   },
   "outputs": [],
   "source": [
    "def my_walk(g,c,L,R):\n",
    "    N=g.GetNodes()\n",
    "    s=np.zeros((N,N))\n",
    "    for i in range(N):\n",
    "        s[i]=ssRWalk(i,c,L,R,g)\n",
    "    return s "
   ]
  },
  {
   "cell_type": "code",
   "execution_count": 25,
   "metadata": {
    "ExecuteTime": {
     "end_time": "2020-08-25T12:24:05.610542Z",
     "start_time": "2020-08-25T12:24:05.600571Z"
    }
   },
   "outputs": [],
   "source": [
    "def main():\n",
    "    start=datetime.datetime.now()\n",
    "    g = snap.LoadEdgeList(snap.PNGraph, 'G:/CDO/海上风电场/蒙特卡洛模拟/simrank-master/email-Eu-core.txt')\n",
    "    N=g.GetNodes()\n",
    "    c=0.6\n",
    "    L=6\n",
    "    R=1000\n",
    "    s=my_walk(g,c,L,R)\n",
    "    np.save('G:/CDO/海上风电场/蒙特卡洛模拟/simrank-master/simByMW.ipynb',s)\n",
    "    end=datetime.datetime.now()\n",
    "    print(\"the process time is \",(end-start).seconds,\"seconds\")  "
   ]
  },
  {
   "cell_type": "code",
   "execution_count": 26,
   "metadata": {
    "ExecuteTime": {
     "end_time": "2020-08-25T12:24:07.990174Z",
     "start_time": "2020-08-25T12:24:07.968246Z"
    }
   },
   "outputs": [
    {
     "ename": "AttributeError",
     "evalue": "module 'snap' has no attribute 'LoadEdgeList'",
     "output_type": "error",
     "traceback": [
      "\u001b[1;31m---------------------------------------------------------------------------\u001b[0m",
      "\u001b[1;31mAttributeError\u001b[0m                            Traceback (most recent call last)",
      "\u001b[1;32m<ipython-input-26-68fc34c81b28>\u001b[0m in \u001b[0;36m<module>\u001b[1;34m\u001b[0m\n\u001b[0;32m      1\u001b[0m \u001b[1;32mif\u001b[0m \u001b[0m__name__\u001b[0m\u001b[1;33m==\u001b[0m\u001b[1;34m\"__main__\"\u001b[0m\u001b[1;33m:\u001b[0m\u001b[1;33m\u001b[0m\u001b[1;33m\u001b[0m\u001b[0m\n\u001b[1;32m----> 2\u001b[1;33m     \u001b[0mmain\u001b[0m\u001b[1;33m(\u001b[0m\u001b[1;33m)\u001b[0m\u001b[1;33m\u001b[0m\u001b[1;33m\u001b[0m\u001b[0m\n\u001b[0m",
      "\u001b[1;32m<ipython-input-25-997f0070e739>\u001b[0m in \u001b[0;36mmain\u001b[1;34m()\u001b[0m\n\u001b[0;32m      1\u001b[0m \u001b[1;32mdef\u001b[0m \u001b[0mmain\u001b[0m\u001b[1;33m(\u001b[0m\u001b[1;33m)\u001b[0m\u001b[1;33m:\u001b[0m\u001b[1;33m\u001b[0m\u001b[1;33m\u001b[0m\u001b[0m\n\u001b[0;32m      2\u001b[0m     \u001b[0mstart\u001b[0m\u001b[1;33m=\u001b[0m\u001b[0mdatetime\u001b[0m\u001b[1;33m.\u001b[0m\u001b[0mdatetime\u001b[0m\u001b[1;33m.\u001b[0m\u001b[0mnow\u001b[0m\u001b[1;33m(\u001b[0m\u001b[1;33m)\u001b[0m\u001b[1;33m\u001b[0m\u001b[1;33m\u001b[0m\u001b[0m\n\u001b[1;32m----> 3\u001b[1;33m     \u001b[0mg\u001b[0m \u001b[1;33m=\u001b[0m \u001b[0msnap\u001b[0m\u001b[1;33m.\u001b[0m\u001b[0mLoadEdgeList\u001b[0m\u001b[1;33m(\u001b[0m\u001b[0msnap\u001b[0m\u001b[1;33m.\u001b[0m\u001b[0mPNGraph\u001b[0m\u001b[1;33m,\u001b[0m \u001b[1;34m'G:/CDO/海上风电场/蒙特卡洛模拟/simrank-master/email-Eu-core.txt'\u001b[0m\u001b[1;33m)\u001b[0m\u001b[1;33m\u001b[0m\u001b[1;33m\u001b[0m\u001b[0m\n\u001b[0m\u001b[0;32m      4\u001b[0m     \u001b[0mN\u001b[0m\u001b[1;33m=\u001b[0m\u001b[0mg\u001b[0m\u001b[1;33m.\u001b[0m\u001b[0mGetNodes\u001b[0m\u001b[1;33m(\u001b[0m\u001b[1;33m)\u001b[0m\u001b[1;33m\u001b[0m\u001b[1;33m\u001b[0m\u001b[0m\n\u001b[0;32m      5\u001b[0m     \u001b[0mc\u001b[0m\u001b[1;33m=\u001b[0m\u001b[1;36m0.6\u001b[0m\u001b[1;33m\u001b[0m\u001b[1;33m\u001b[0m\u001b[0m\n",
      "\u001b[1;31mAttributeError\u001b[0m: module 'snap' has no attribute 'LoadEdgeList'"
     ]
    }
   ],
   "source": [
    "if __name__==\"__main__\":\n",
    "    main()"
   ]
  },
  {
   "cell_type": "markdown",
   "metadata": {},
   "source": [
    "# 原始运行"
   ]
  },
  {
   "cell_type": "code",
   "execution_count": 22,
   "metadata": {
    "ExecuteTime": {
     "end_time": "2020-08-25T12:19:54.388059Z",
     "start_time": "2020-08-25T12:19:54.381078Z"
    }
   },
   "outputs": [],
   "source": [
    "from __future__ import division\n",
    "import numpy as np\n",
    "import snap\n",
    "import datetime "
   ]
  },
  {
   "cell_type": "code",
   "execution_count": 23,
   "metadata": {
    "ExecuteTime": {
     "end_time": "2020-08-25T12:20:28.188753Z",
     "start_time": "2020-08-25T12:20:28.179776Z"
    }
   },
   "outputs": [],
   "source": [
    "def path_sample(g,source,L):\n",
    "    path=list()\n",
    "    path.append(source)\n",
    "    walker=source\n",
    "    for i in range(L):\n",
    "        Ni=g.GetNI(walker)\n",
    "        InDegree=Ni.GetInDeg()\n",
    "        InNeibors=list(Ni.GetInEdges())\n",
    "        if InDegree==0:\n",
    "            break\n",
    "        walker=np.random.choice(InNeibors)\n",
    "        path.append(walker)\n",
    "    return path "
   ]
  },
  {
   "cell_type": "code",
   "execution_count": 24,
   "metadata": {
    "ExecuteTime": {
     "end_time": "2020-08-25T12:21:55.726544Z",
     "start_time": "2020-08-25T12:21:55.718542Z"
    }
   },
   "outputs": [],
   "source": [
    "def naive_walk(g,c,L,R):\n",
    "    N=g.GetNodes()\n",
    "    s=np.zeros((N,N))\n",
    "    for r in range(R):\n",
    "        print(\"round \",r)\n",
    "        all_path=list()  ## 从图g的每个节点中抽取一条长度为L的路径\n",
    "        for n in range(N):\n",
    "            all_path.append(path_sample(g,n,L))\n",
    "        for i in range(N):\n",
    "            for j in range(i,N):\n",
    "                pathi=all_path[i]\n",
    "                pathj=all_path[j]\n",
    "                sd=0.\n",
    "                for k in range(min(len(pathi),len(pathj))):\n",
    "                    if pathi[k]==pathj[k]:\n",
    "                        sd=c**k\n",
    "                        break\n",
    "                s[i,j]+=sd\n",
    "                s[j,i]+=sd\n",
    "    s/=R\n",
    "    return s  "
   ]
  },
  {
   "cell_type": "code",
   "execution_count": 29,
   "metadata": {
    "ExecuteTime": {
     "end_time": "2020-08-25T12:25:30.762076Z",
     "start_time": "2020-08-25T12:25:30.756118Z"
    }
   },
   "outputs": [],
   "source": [
    "def main():\n",
    "    start = datetime.datetime.now()\n",
    "    g = snap.LoadEdgeList(snap.PNGraph, 'G:/CDO/海上风电场/蒙特卡洛模拟/simrank-master/email-Eu-core.txt')\n",
    "    N = g.GetNodes()\n",
    "    c = 0.6\n",
    "    L = 6\n",
    "    R = 1000\n",
    "    s = naive_walk(g,c,L,R)\n",
    "    np.save('G:/CDO/海上风电场/蒙特卡洛模拟/simrank-master/simByNaive.ipynb',s)\n",
    "    end=datetime.datetime.now()\n",
    "    print(\"the process time is\",(end-start).seconds,\"seconds\") "
   ]
  },
  {
   "cell_type": "code",
   "execution_count": 30,
   "metadata": {
    "ExecuteTime": {
     "end_time": "2020-08-25T12:25:33.154672Z",
     "start_time": "2020-08-25T12:25:33.139714Z"
    }
   },
   "outputs": [
    {
     "ename": "AttributeError",
     "evalue": "module 'snap' has no attribute 'LoadEdgeList'",
     "output_type": "error",
     "traceback": [
      "\u001b[1;31m---------------------------------------------------------------------------\u001b[0m",
      "\u001b[1;31mAttributeError\u001b[0m                            Traceback (most recent call last)",
      "\u001b[1;32m<ipython-input-30-83591bb63958>\u001b[0m in \u001b[0;36m<module>\u001b[1;34m\u001b[0m\n\u001b[0;32m      1\u001b[0m \u001b[1;32mif\u001b[0m \u001b[0m__name__\u001b[0m \u001b[1;33m==\u001b[0m \u001b[1;34m'__main__'\u001b[0m\u001b[1;33m:\u001b[0m\u001b[1;33m\u001b[0m\u001b[1;33m\u001b[0m\u001b[0m\n\u001b[1;32m----> 2\u001b[1;33m     \u001b[0mmain\u001b[0m\u001b[1;33m(\u001b[0m\u001b[1;33m)\u001b[0m\u001b[1;33m\u001b[0m\u001b[1;33m\u001b[0m\u001b[0m\n\u001b[0m",
      "\u001b[1;32m<ipython-input-29-438b54bb3c47>\u001b[0m in \u001b[0;36mmain\u001b[1;34m()\u001b[0m\n\u001b[0;32m      1\u001b[0m \u001b[1;32mdef\u001b[0m \u001b[0mmain\u001b[0m\u001b[1;33m(\u001b[0m\u001b[1;33m)\u001b[0m\u001b[1;33m:\u001b[0m\u001b[1;33m\u001b[0m\u001b[1;33m\u001b[0m\u001b[0m\n\u001b[0;32m      2\u001b[0m     \u001b[0mstart\u001b[0m \u001b[1;33m=\u001b[0m \u001b[0mdatetime\u001b[0m\u001b[1;33m.\u001b[0m\u001b[0mdatetime\u001b[0m\u001b[1;33m.\u001b[0m\u001b[0mnow\u001b[0m\u001b[1;33m(\u001b[0m\u001b[1;33m)\u001b[0m\u001b[1;33m\u001b[0m\u001b[1;33m\u001b[0m\u001b[0m\n\u001b[1;32m----> 3\u001b[1;33m     \u001b[0mg\u001b[0m \u001b[1;33m=\u001b[0m \u001b[0msnap\u001b[0m\u001b[1;33m.\u001b[0m\u001b[0mLoadEdgeList\u001b[0m\u001b[1;33m(\u001b[0m\u001b[0msnap\u001b[0m\u001b[1;33m.\u001b[0m\u001b[0mPNGraph\u001b[0m\u001b[1;33m,\u001b[0m \u001b[1;34m'G:/CDO/海上风电场/蒙特卡洛模拟/simrank-master/email-Eu-core.txt'\u001b[0m\u001b[1;33m)\u001b[0m\u001b[1;33m\u001b[0m\u001b[1;33m\u001b[0m\u001b[0m\n\u001b[0m\u001b[0;32m      4\u001b[0m     \u001b[0mN\u001b[0m \u001b[1;33m=\u001b[0m \u001b[0mg\u001b[0m\u001b[1;33m.\u001b[0m\u001b[0mGetNodes\u001b[0m\u001b[1;33m(\u001b[0m\u001b[1;33m)\u001b[0m\u001b[1;33m\u001b[0m\u001b[1;33m\u001b[0m\u001b[0m\n\u001b[0;32m      5\u001b[0m     \u001b[0mc\u001b[0m \u001b[1;33m=\u001b[0m \u001b[1;36m0.6\u001b[0m\u001b[1;33m\u001b[0m\u001b[1;33m\u001b[0m\u001b[0m\n",
      "\u001b[1;31mAttributeError\u001b[0m: module 'snap' has no attribute 'LoadEdgeList'"
     ]
    }
   ],
   "source": [
    "if __name__ == '__main__':\n",
    "    main() "
   ]
  },
  {
   "cell_type": "markdown",
   "metadata": {},
   "source": [
    "# 实验"
   ]
  },
  {
   "cell_type": "code",
   "execution_count": 34,
   "metadata": {
    "ExecuteTime": {
     "end_time": "2020-08-25T12:36:07.481036Z",
     "start_time": "2020-08-25T12:36:07.469047Z"
    }
   },
   "outputs": [
    {
     "ename": "ModuleNotFoundError",
     "evalue": "No module named 'my_walk'",
     "output_type": "error",
     "traceback": [
      "\u001b[1;31m---------------------------------------------------------------------------\u001b[0m",
      "\u001b[1;31mModuleNotFoundError\u001b[0m                       Traceback (most recent call last)",
      "\u001b[1;32m<ipython-input-34-773dc58961fb>\u001b[0m in \u001b[0;36m<module>\u001b[1;34m\u001b[0m\n\u001b[0;32m      1\u001b[0m \u001b[1;32mfrom\u001b[0m \u001b[0m__future__\u001b[0m \u001b[1;32mimport\u001b[0m \u001b[0mdivision\u001b[0m\u001b[1;33m\u001b[0m\u001b[1;33m\u001b[0m\u001b[0m\n\u001b[1;32m----> 2\u001b[1;33m \u001b[1;32mimport\u001b[0m \u001b[0mmy_walk\u001b[0m \u001b[1;32mas\u001b[0m \u001b[0mmw\u001b[0m\u001b[1;33m\u001b[0m\u001b[1;33m\u001b[0m\u001b[0m\n\u001b[0m\u001b[0;32m      3\u001b[0m \u001b[1;32mimport\u001b[0m \u001b[0mnaive_walk\u001b[0m \u001b[1;32mas\u001b[0m \u001b[0mnw\u001b[0m\u001b[1;33m\u001b[0m\u001b[1;33m\u001b[0m\u001b[0m\n\u001b[0;32m      4\u001b[0m \u001b[1;32mimport\u001b[0m \u001b[0mnumpy\u001b[0m \u001b[1;32mas\u001b[0m \u001b[0mnp\u001b[0m\u001b[1;33m\u001b[0m\u001b[1;33m\u001b[0m\u001b[0m\n\u001b[0;32m      5\u001b[0m \u001b[1;32mimport\u001b[0m \u001b[0mdatetime\u001b[0m\u001b[1;33m\u001b[0m\u001b[1;33m\u001b[0m\u001b[0m\n",
      "\u001b[1;31mModuleNotFoundError\u001b[0m: No module named 'my_walk'"
     ]
    }
   ],
   "source": [
    "from __future__ import division\n",
    "import my_walk as mw\n",
    "import naive_walk as nw\n",
    "import numpy as np\n",
    "import datetime\n",
    "import snap "
   ]
  },
  {
   "cell_type": "code",
   "execution_count": null,
   "metadata": {},
   "outputs": [],
   "source": [
    "def var_L(g,c,L_list,R):\n",
    "    N=g.GetNodes()\n",
    "    d=len(L_list)\n",
    "    naive_ret=np.zeros((d,N,N))\n",
    "    my_ret=np.zeros((d,N,N))\n",
    "    for i,L in enumerate(L_list):\n",
    "        sn=nw.naive_walk(g,c,L,R)\n",
    "        sm=mw.my_walk(g,c,L,R)\n",
    "        naive_ret[i,:,:]=sn\n",
    "        my_ret[i,:,:]=sm\n",
    "    return naive_ret,my_ret"
   ]
  },
  {
   "cell_type": "code",
   "execution_count": null,
   "metadata": {},
   "outputs": [],
   "source": [
    "def var_R(g,c,L,R_list):\n",
    "    N=g.GetNodes()\n",
    "    d=len(R_list)\n",
    "    naive_ret=np.zeros((d,N,N))\n",
    "    my_ret=np.zeros((d,N,N))\n",
    "    for i,R in enumerate(R_list):\n",
    "        sn=nw.naive_walk(g,c,L,R)\n",
    "        sm=mw.my_walk(g,c,L,R)\n",
    "        naive_ret[i,:,:]=sn\n",
    "        my_ret[i,:,:]=sm\n",
    "    return naive_ret,my_ret"
   ]
  },
  {
   "cell_type": "code",
   "execution_count": null,
   "metadata": {},
   "outputs": [],
   "source": [
    "def main():\n",
    "    start = datetime.datetime.now()\n",
    "    g = snap.LoadEdgeList(snap.PNGraph, 'G:/CDO/海上风电场/蒙特卡洛模拟/simrank-master/email-Eu-core.txt')\n",
    "    c = 0.6\n",
    "    L_list=range(1,7)\n",
    "    R_list=range(200,1200,200)\n",
    "    print 'computing with L variating...'\n",
    "    a,b=var_L(g,c,L_list,1000)\n",
    "    print 'computing with R variating...'\n",
    "    c,d=var_R(g,c,6,R_list)\n",
    "\n",
    "    ## save the results to the disk. 'n' represents naive_walk result matrix and\n",
    "    # 'm' represents my_walk result matrix\n",
    "    np.savez('G:/CDO/海上风电场/蒙特卡洛模拟/simrank-master/var_L.npz',n=a,m=b)\n",
    "    np.savez('G:/CDO/海上风电场/蒙特卡洛模拟/simrank-master/var_R.npz',n=c,m=d)\n",
    "\n",
    "    end=datetime.datetime.now()\n",
    "    print 'total time: '+str((end-start).seconds)+' seconds'\n"
   ]
  },
  {
   "cell_type": "code",
   "execution_count": null,
   "metadata": {},
   "outputs": [],
   "source": [
    "if __name__ == '__main__':\n",
    "    main()"
   ]
  },
  {
   "cell_type": "code",
   "execution_count": null,
   "metadata": {},
   "outputs": [],
   "source": []
  },
  {
   "cell_type": "code",
   "execution_count": 32,
   "metadata": {
    "ExecuteTime": {
     "end_time": "2020-08-25T12:34:28.852482Z",
     "start_time": "2020-08-25T12:34:28.848491Z"
    }
   },
   "outputs": [],
   "source": [
    "import numpy as np\n",
    "import matplotlib.pyplot as plt"
   ]
  },
  {
   "cell_type": "raw",
   "metadata": {},
   "source": [
    "这个脚本通过计算来评估naive walk的结果和我自己的walk解决方案\n",
    "求出平均误差和top-k精度，并绘制出结果图"
   ]
  },
  {
   "cell_type": "code",
   "execution_count": 33,
   "metadata": {
    "ExecuteTime": {
     "end_time": "2020-08-25T12:35:58.430164Z",
     "start_time": "2020-08-25T12:35:58.425175Z"
    }
   },
   "outputs": [],
   "source": [
    "def plot_ME(truth,naive,my):\n",
    "    '''真值为simrank真值矩阵，通过迭代求解得到，naive和my都是一个P*N*N矩阵，其中P是标点数'''\n",
    "    k,N,_=naive.shape"
   ]
  },
  {
   "cell_type": "code",
   "execution_count": null,
   "metadata": {},
   "outputs": [],
   "source": []
  }
 ],
 "metadata": {
  "kernelspec": {
   "display_name": "Python 3",
   "language": "python",
   "name": "python3"
  },
  "language_info": {
   "codemirror_mode": {
    "name": "ipython",
    "version": 3
   },
   "file_extension": ".py",
   "mimetype": "text/x-python",
   "name": "python",
   "nbconvert_exporter": "python",
   "pygments_lexer": "ipython3",
   "version": "3.7.6"
  },
  "latex_envs": {
   "LaTeX_envs_menu_present": true,
   "autoclose": false,
   "autocomplete": true,
   "bibliofile": "biblio.bib",
   "cite_by": "apalike",
   "current_citInitial": 1,
   "eqLabelWithNumbers": true,
   "eqNumInitial": 1,
   "hotkeys": {
    "equation": "Ctrl-E",
    "itemize": "Ctrl-I"
   },
   "labels_anchors": false,
   "latex_user_defs": false,
   "report_style_numbering": false,
   "user_envs_cfg": false
  },
  "nbTranslate": {
   "displayLangs": [
    "*"
   ],
   "hotkey": "alt-t",
   "langInMainMenu": true,
   "sourceLang": "en",
   "targetLang": "fr",
   "useGoogleTranslate": true
  },
  "toc": {
   "base_numbering": 1,
   "nav_menu": {},
   "number_sections": true,
   "sideBar": true,
   "skip_h1_title": false,
   "title_cell": "Table of Contents",
   "title_sidebar": "Contents",
   "toc_cell": false,
   "toc_position": {
    "height": "calc(100% - 180px)",
    "left": "10px",
    "top": "150px",
    "width": "165px"
   },
   "toc_section_display": true,
   "toc_window_display": true
  }
 },
 "nbformat": 4,
 "nbformat_minor": 4
}
