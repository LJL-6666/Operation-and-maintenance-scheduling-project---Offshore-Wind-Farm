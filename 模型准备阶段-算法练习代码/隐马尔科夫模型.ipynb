{
 "cells": [
  {
   "cell_type": "code",
   "execution_count": 1,
   "metadata": {
    "ExecuteTime": {
     "end_time": "2020-08-10T05:24:42.623750Z",
     "start_time": "2020-08-10T05:24:42.615775Z"
    }
   },
   "outputs": [],
   "source": [
    "from IPython.core.interactiveshell import InteractiveShell\n",
    "from IPython.display import display, Latex\n",
    "InteractiveShell.ast_node_interactivity = \"all\""
   ]
  },
  {
   "cell_type": "code",
   "execution_count": 2,
   "metadata": {
    "ExecuteTime": {
     "end_time": "2020-08-10T05:24:56.524662Z",
     "start_time": "2020-08-10T05:24:52.151746Z"
    }
   },
   "outputs": [],
   "source": [
    "import numpy as np"
   ]
  },
  {
   "cell_type": "code",
   "execution_count": 3,
   "metadata": {
    "ExecuteTime": {
     "end_time": "2020-08-10T05:26:49.642502Z",
     "start_time": "2020-08-10T05:26:49.581630Z"
    }
   },
   "outputs": [],
   "source": [
    "class HiddenMarkov:\n",
    "    def forward(self, Q, V, A, B, O, PI):  # 使用前向算法\n",
    "        N = len(Q)  #可能存在的状态数量\n",
    "        M = len(O)  # 观测序列的大小\n",
    "        alphas = np.zeros((N, M))  # alpha值\n",
    "        T = M  # 有几个时刻，有几个观测序列，就有几个时刻\n",
    "        for t in range(T):  # 遍历每一时刻，算出alpha值\n",
    "            indexOfO = V.index(O[t])  # 找出序列对应的索引\n",
    "            for i in range(N):\n",
    "                if t == 0:  # 计算初值\n",
    "                    alphas[i][t] = PI[t][i] * B[i][indexOfO]  # P176（10.15）\n",
    "                    print(\n",
    "                        'alpha1(%d)=p%db%db(o1)=%f' % (i, i, i, alphas[i][t]))\n",
    "                else:\n",
    "                    alphas[i][t] = np.dot(\n",
    "                        [alpha[t - 1] for alpha in alphas],\n",
    "                        [a[i] for a in A]) * B[i][indexOfO]  # 对应P176（10.16）\n",
    "                    print('alpha%d(%d)=[sigma alpha%d(i)ai%d]b%d(o%d)=%f' %\n",
    "                          (t, i, t - 1, i, i, t, alphas[i][t]))\n",
    "                    # print(alphas)\n",
    "        P = np.sum([alpha[M - 1] for alpha in alphas])  # P176(10.17)\n",
    "        # alpha11 = pi[0][0] * B[0][0]    #代表a1(1)\n",
    "        # alpha12 = pi[0][1] * B[1][0]    #代表a1(2)\n",
    "        # alpha13 = pi[0][2] * B[2][0]    #代表a1(3)\n",
    "\n",
    "    def backward(self, Q, V, A, B, O, PI):  # 后向算法\n",
    "        N = len(Q)  # 可能存在的状态数量\n",
    "        M = len(O)  # 观测序列的大小\n",
    "        betas = np.ones((N, M))  # beta\n",
    "        for i in range(N):\n",
    "            print('beta%d(%d)=1' % (M, i))\n",
    "        for t in range(M - 2, -1, -1):\n",
    "            indexOfO = V.index(O[t + 1])  # 找出序列对应的索引\n",
    "            for i in range(N):\n",
    "                betas[i][t] = np.dot(\n",
    "                    np.multiply(A[i], [b[indexOfO] for b in B]),\n",
    "                    [beta[t + 1] for beta in betas])\n",
    "                realT = t + 1\n",
    "                realI = i + 1\n",
    "                print(\n",
    "                    'beta%d(%d)=[sigma a%djbj(o%d)]beta%d(j)=(' %\n",
    "                    (realT, realI, realI, realT + 1, realT + 1),\n",
    "                    end='')\n",
    "                for j in range(N):\n",
    "                    print(\n",
    "                        \"%.2f*%.2f*%.2f+\" % (A[i][j], B[j][indexOfO],\n",
    "                                             betas[j][t + 1]),\n",
    "                        end='')\n",
    "                print(\"0)=%.3f\" % betas[i][t])\n",
    "        # print(betas)\n",
    "        indexOfO = V.index(O[0])\n",
    "        P = np.dot(\n",
    "            np.multiply(PI, [b[indexOfO] for b in B]),\n",
    "            [beta[0] for beta in betas])\n",
    "        print(\"P(O|lambda)=\", end=\"\")\n",
    "        for i in range(N):\n",
    "            print(\n",
    "                \"%.1f*%.1f*%.5f+\" % (PI[0][i], B[i][indexOfO], betas[i][0]),\n",
    "                end=\"\")\n",
    "        print(\"0=%f\" % P)\n",
    "\n",
    "    def viterbi(self, Q, V, A, B, O, PI):\n",
    "        OUTPUT = False\n",
    "        N = len(Q)  #可能存在的状态数量\n",
    "        M = len(O)  # 观测序列的大小\n",
    "        deltas = np.zeros((N, M))\n",
    "        psis = np.zeros((N, M))\n",
    "        I = np.zeros((1, M))\n",
    "        for t in range(M):\n",
    "            realT = t + 1\n",
    "            indexOfO = V.index(O[t])  # 找出序列对应的索引\n",
    "            for i in range(N):\n",
    "                realI = i + 1\n",
    "                if t == 0:\n",
    "                    deltas[i][t] = PI[0][i] * B[i][indexOfO]\n",
    "                    psis[i][t] = 0\n",
    "                    if OUTPUT:\n",
    "                        print('delta1(%d)=pi%d * b%d(o1)=%.2f * %.2f=%.2f' %\n",
    "                              (realI, realI, realI, PI[0][i], B[i][indexOfO],\n",
    "                               deltas[i][t]))\n",
    "                        print('psis1(%d)=0' % (realI))\n",
    "                else:\n",
    "                    deltas[i][t] = np.max(\n",
    "                        np.multiply([delta[t - 1] for delta in deltas],\n",
    "                                    [a[i] for a in A])) * B[i][indexOfO]\n",
    "                    if OUTPUT:\n",
    "                        print(\n",
    "                            'delta%d(%d)=max[delta%d(j)aj%d]b%d(o%d)=%.2f*%.2f=%.5f'\n",
    "                            % (realT, realI, realT - 1, realI, realI, realT,\n",
    "                               np.max(\n",
    "                                   np.multiply([delta[t - 1] for delta in deltas],\n",
    "                                               [a[i] for a in A])), B[i][indexOfO],\n",
    "                               deltas[i][t]))\n",
    "                    psis[i][t] = np.argmax(\n",
    "                        np.multiply(\n",
    "                            [delta[t - 1] for delta in deltas],\n",
    "                            [a[i]\n",
    "                             for a in A])) + 1  #由于其返回的是索引，因此应+1才能和正常的下标值相符合。\n",
    "                    if OUTPUT:\n",
    "                        print('psis%d(%d)=argmax[delta%d(j)aj%d]=%d' %\n",
    "                              (realT, realI, realT - 1, realI, psis[i][t]))\n",
    "        if OUTPUT:\n",
    "            print(deltas)\n",
    "            print(psis)\n",
    "        I[0][M - 1] = np.argmax([delta[M - 1] for delta in deltas]) + 1  \n",
    "        #由于其返回的是索引，因此应+1才能和正常的下标值相符合。\n",
    "        if OUTPUT:\n",
    "            print('i%d=argmax[deltaT(i)]=%d' % (M, I[0][M - 1]))\n",
    "        for t in range(M - 2, -1, -1):\n",
    "            I[0][t] = psis[int(I[0][t + 1]) - 1][t + 1]\n",
    "            if OUTPUT:\n",
    "                print('i%d=psis%d(i%d)=%d' % (t + 1, t + 2, t + 2, I[0][t]))\n",
    "        print(\"状态序列I：\", I)\n",
    "        return I.astype(int)"
   ]
  },
  {
   "cell_type": "code",
   "execution_count": 4,
   "metadata": {
    "ExecuteTime": {
     "end_time": "2020-08-10T05:27:18.162503Z",
     "start_time": "2020-08-10T05:27:18.148898Z"
    }
   },
   "outputs": [],
   "source": [
    "#习题10.1\n",
    "I = [1, 2, 3]\n",
    "O = ['红', '白']\n",
    "A = [[0.5, 0.2, 0.3], [0.3, 0.5, 0.2], [0.2, 0.3, 0.5]]\n",
    "B = [[0.5, 0.5], [0.4, 0.6], [0.7, 0.3]]\n",
    "# O = ['红', '白', '红', '红', '白', '红', '白', '白']\n",
    "OL = ['红', '白', '红', '白']    #习题10.1的例子\n",
    "PI = [[0.2, 0.4, 0.4]]"
   ]
  },
  {
   "cell_type": "code",
   "execution_count": 5,
   "metadata": {
    "ExecuteTime": {
     "end_time": "2020-08-10T05:27:32.821386Z",
     "start_time": "2020-08-10T05:27:32.798451Z"
    }
   },
   "outputs": [
    {
     "name": "stdout",
     "output_type": "stream",
     "text": [
      "状态序列I： [[3. 2. 2. 2.]]\n"
     ]
    },
    {
     "data": {
      "text/plain": [
       "array([[3, 2, 2, 2]])"
      ]
     },
     "execution_count": 5,
     "metadata": {},
     "output_type": "execute_result"
    },
    {
     "name": "stdout",
     "output_type": "stream",
     "text": [
      "状态序列I： [[3. 3. 3. 3. 3. 3. 3.]]\n"
     ]
    },
    {
     "data": {
      "text/plain": [
       "array([[3, 3, 3, 3, 3, 3, 3]])"
      ]
     },
     "execution_count": 5,
     "metadata": {},
     "output_type": "execute_result"
    }
   ],
   "source": [
    "HMM = HiddenMarkov()\n",
    "# HMM.forward(Q, V, A, B, O, PI)\n",
    "# HMM.backward(Q, V, A, B, O, PI)\n",
    "HMM.viterbi(I, O, A, B, OL, PI)\n",
    "OL = ['红', '白', '白', '红', '红', '白', '红']    #例10.1的例子\n",
    "HMM.viterbi(I, O, A, B, OL, PI)"
   ]
  },
  {
   "cell_type": "code",
   "execution_count": 6,
   "metadata": {
    "ExecuteTime": {
     "end_time": "2020-08-10T05:27:47.635097Z",
     "start_time": "2020-08-10T05:27:47.613157Z"
    }
   },
   "outputs": [
    {
     "name": "stdout",
     "output_type": "stream",
     "text": [
      "状态序列I： [[3. 3. 3. 3. 2. 2. 2. 2.]]\n"
     ]
    },
    {
     "data": {
      "text/plain": [
       "array([[3, 3, 3, 3, 2, 2, 2, 2]])"
      ]
     },
     "execution_count": 6,
     "metadata": {},
     "output_type": "execute_result"
    }
   ],
   "source": [
    "I = [1, 2, 3]\n",
    "O = ['红', '白']\n",
    "A = [[0.5, 0.2, 0.3], [0.3, 0.5, 0.2], [0.2, 0.3, 0.5]]\n",
    "B = [[0.5, 0.5], [0.4, 0.6], [0.7, 0.3]]\n",
    "OL = ['红', '白', '红', '红', '白', '红', '白', '白']\n",
    "PI = [[0.2, 0.3, 0.5]]\n",
    "# HMM.forward(I, O, A, B, OL, PI)\n",
    "# HMM.backward(I, O, A, B, OL, PI)\n",
    "HMM.viterbi(I, O, A, B, OL, PI)"
   ]
  },
  {
   "cell_type": "code",
   "execution_count": 7,
   "metadata": {
    "ExecuteTime": {
     "end_time": "2020-08-10T05:28:11.590025Z",
     "start_time": "2020-08-10T05:28:11.576065Z"
    }
   },
   "outputs": [],
   "source": [
    "import json\n",
    "from operator import itemgetter\n",
    "def load_dict(dict_path: str):\n",
    "    # dict_path (str): 字典路径\n",
    "    # Returns: dict: 字典\n",
    "    with open(dict_path, \"r\", encoding=\"utf-8\") as fr:\n",
    "        return json.load(fr)\n",
    "\n",
    "def load_data(data_path: str, char_dict: dict, label_dict: dict):\n",
    "    # 加载数据\n",
    "    # data_path (str): 数据路径\n",
    "    # char_dict (str): 字符字典\n",
    "    # label_dict (str): 标签字典\n",
    "    # Returns:\n",
    "    # seq_data: list，shape=(data_size,seq_len)\n",
    "    # label_data: 形状和seq_data一样\n",
    "    text_data = []\n",
    "    label_data = []\n",
    "\n",
    "    with open(data_path, 'r', encoding='utf-8') as fr:\n",
    "        for idx, line in enumerate(fr.readlines()):\n",
    "            line = eval(line)\n",
    "            text = line['text']\n",
    "            label = line['label']\n",
    "\n",
    "            if len(text) > 1 and len(label) > 1 and len(text) == len(label):\n",
    "                text = list(itemgetter(*text)(char_dict))\n",
    "                label = list(itemgetter(*label)(label_dict))\n",
    "                text_data.append(text)\n",
    "                label_data.append(label)\n",
    "\n",
    "    return text_data, label_data "
   ]
  },
  {
   "cell_type": "code",
   "execution_count": 11,
   "metadata": {
    "ExecuteTime": {
     "end_time": "2020-08-10T06:01:25.308874Z",
     "start_time": "2020-08-10T06:01:07.172096Z"
    }
   },
   "outputs": [],
   "source": [
    "char_dict_path = 'G:/CDO/NLP/HMM_NER-master/data/char.dic'\n",
    "label_dict_path = 'G:/CDO/NLP/HMM_NER-master/data/label.dic'\n",
    "data_path = 'G:/CDO/NLP/HMM_NER-master/data/train_data.txt'\n",
    "\n",
    "char_dict = load_dict(char_dict_path)\n",
    "label_dict = load_dict(label_dict_path)\n",
    "text_data, label_data = load_data(data_path, char_dict, label_dict)"
   ]
  },
  {
   "cell_type": "code",
   "execution_count": 12,
   "metadata": {
    "ExecuteTime": {
     "end_time": "2020-08-10T06:01:25.336648Z",
     "start_time": "2020-08-10T06:01:25.312802Z"
    }
   },
   "outputs": [
    {
     "name": "stdout",
     "output_type": "stream",
     "text": [
      "char_dict: \n",
      "UNK=0,翠=1,左=2,绩=3,炫=4,锥=5,冢=6,毽=7,豢=8,返=9,\n",
      "label_dict: \n",
      "B-ORG=0,B-PER=1,I-PER=2,O=3,I-LOC=4,B-LOC=5,I-ORG=6,"
     ]
    },
    {
     "data": {
      "text/plain": [
       "list"
      ]
     },
     "execution_count": 12,
     "metadata": {},
     "output_type": "execute_result"
    },
    {
     "data": {
      "text/plain": [
       "list"
      ]
     },
     "execution_count": 12,
     "metadata": {},
     "output_type": "execute_result"
    }
   ],
   "source": [
    "i = 1\n",
    "print('char_dict: ')\n",
    "for k,v in char_dict.items():\n",
    "    print('{}={}'.format(k,v),end=',')\n",
    "    i += 1\n",
    "    if i>10:\n",
    "        break\n",
    "i = 1\n",
    "print('\\nlabel_dict: ')\n",
    "for k,v in label_dict.items():\n",
    "    print('{}={}'.format(k,v),end=',')\n",
    "    i += 1\n",
    "    if i>10:\n",
    "        break\n",
    "type(text_data)\n",
    "type(label_data)"
   ]
  },
  {
   "cell_type": "code",
   "execution_count": 13,
   "metadata": {
    "ExecuteTime": {
     "end_time": "2020-08-10T06:01:26.439102Z",
     "start_time": "2020-08-10T06:01:26.415688Z"
    }
   },
   "outputs": [],
   "source": [
    "def estimate(char_dict,label_dict, text_data, label_data):\n",
    "    # 训练模型\n",
    "    # text_data (np.ndarray): 观测序列\n",
    "    # label_data (np.ndarray): 隐藏状态\n",
    "    # 估计转移概率矩阵\n",
    "\n",
    "    I = [a for a in label_dict.values()]\n",
    "    O = [a for a in char_dict.values()]\n",
    "    n_chars = len(char_dict)\n",
    "    n_labels = len(label_dict)\n",
    "\n",
    "    # 初始化转移矩阵A、发射矩阵B、初始矩阵Pi\n",
    "    transition = np.zeros((n_labels, n_labels))\n",
    "    emission = np.zeros((n_labels, n_chars))\n",
    "    pi = np.zeros(n_labels)\n",
    "\n",
    "    # 偏置，用来防止log(0)或乘0的情况\n",
    "    epsilon = 1e-8\n",
    "\n",
    "    # 估计发射概率矩阵 初始概率矩阵\n",
    "\n",
    "    print(\"estimate_transition_and_initial_probs\")\n",
    "    for line in label_data:\n",
    "        # 统计初始状态\n",
    "        pi[line[0]] += 1\n",
    "        # 统计转移状态\n",
    "        for cur, nxt in zip(line[:-1], line[1:]):\n",
    "            transition[cur, nxt] += 1\n",
    "\n",
    "    pi[pi == 0] = epsilon\n",
    "    pi /= np.sum(pi)\n",
    "\n",
    "    transition[transition == 0] = epsilon\n",
    "    transition /= np.sum(transition, axis=1, keepdims=True)\n",
    "\n",
    "    # 计算发射矩阵 P(Observation | Hidden_state)\n",
    "    print(\"estimate_emission_probs\")\n",
    "    for seq_line, lbl_line in zip(text_data, label_data):\n",
    "        for char, lbl in zip(seq_line, lbl_line):\n",
    "            emission[lbl, char] += 1\n",
    "    emission[emission == 0] = epsilon\n",
    "    emission /= np.sum(emission, axis=1, keepdims=True)\n",
    "\n",
    "    # 取log防止计算结果下溢\n",
    "    #pi = np.log(pi)\n",
    "    #transition = np.log(transition)\n",
    "    #emission = np.log(emission)\n",
    "\n",
    "    # Q, V, A, B, O, PI\n",
    "    #I = list(range(n_labels))\n",
    "    #O = list(range(n_chars))\n",
    "    pi = [pi.tolist()]\n",
    "    return I,O,transition, emission, pi "
   ]
  },
  {
   "cell_type": "code",
   "execution_count": 14,
   "metadata": {
    "ExecuteTime": {
     "end_time": "2020-08-10T06:01:36.242358Z",
     "start_time": "2020-08-10T06:01:29.422246Z"
    }
   },
   "outputs": [
    {
     "name": "stdout",
     "output_type": "stream",
     "text": [
      "estimate_transition_and_initial_probs\n",
      "estimate_emission_probs\n"
     ]
    }
   ],
   "source": [
    "I,O,A, B, PI = estimate(char_dict,label_dict, text_data, label_data)"
   ]
  },
  {
   "cell_type": "code",
   "execution_count": 15,
   "metadata": {
    "ExecuteTime": {
     "end_time": "2020-08-10T06:02:14.197121Z",
     "start_time": "2020-08-10T06:02:14.143382Z"
    }
   },
   "outputs": [
    {
     "name": "stdout",
     "output_type": "stream",
     "text": [
      "状态序列I： [[4. 4. 4. 4. 4. 4. 4. 4. 4. 4. 4. 4. 4. 4. 4. 4. 4. 4. 4. 4. 4. 4. 4. 4.\n",
      "  4. 4. 4. 4. 4. 4. 4. 4. 4. 4. 4. 4. 4. 4. 4. 4. 4. 4. 4. 4. 4. 4. 4. 4.\n",
      "  4. 4. 4. 4. 4. 4. 4. 4. 4. 4. 4. 4. 4. 4. 4. 4.]]\n",
      "主\tO\n",
      "题\tO\n",
      "之\tO\n",
      "间\tO\n",
      "割\tO\n",
      "裂\tO\n",
      "感\tO\n",
      "太\tO\n",
      "强\tO\n",
      "，\tO\n",
      "各\tO\n",
      "期\tO\n",
      "主\tO\n",
      "题\tO\n",
      "之\tO\n",
      "间\tO\n",
      "衔\tO\n",
      "接\tO\n",
      "感\tO\n",
      "太\tO\n",
      "差\tO\n",
      "，\tO\n",
      "最\tO\n",
      "好\tO\n",
      "是\tO\n",
      "几\tO\n",
      "次\tO\n",
      "课\tO\n",
      "可\tO\n",
      "以\tO\n",
      "围\tO\n",
      "绕\tO\n",
      "着\tO\n",
      "一\tO\n",
      "个\tO\n",
      "主\tO\n",
      "题\tO\n",
      "来\tO\n",
      "进\tO\n",
      "行\tO\n",
      "学\tO\n",
      "习\tO\n",
      "，\tO\n",
      "从\tO\n",
      "而\tO\n",
      "在\tO\n",
      "自\tO\n",
      "主\tO\n",
      "性\tO\n",
      "学\tO\n",
      "习\tO\n",
      "和\tO\n",
      "主\tO\n",
      "题\tO\n",
      "上\tO\n",
      "都\tO\n",
      "能\tO\n",
      "够\tO\n",
      "有\tO\n",
      "很\tO\n",
      "好\tO\n",
      "的\tO\n",
      "了\tO\n",
      "解\tO\n"
     ]
    }
   ],
   "source": [
    "text = \"主题之间割裂感太强，各期主题之间衔接感太差，最好是几次课可以围绕着一个主题来进行学习，从而在自主性学习和主题上都能够有很好的了解\"\n",
    "\n",
    "text_idx = itemgetter(*text)(char_dict)\n",
    "\n",
    "text_idx = [int(a) for a in text_idx]\n",
    "\n",
    "r = HMM.viterbi(I, O, A, B, text_idx, PI)\n",
    "label_dict_r = {label_dict[k]:k for k in label_dict}\n",
    "r = [label_dict_r[i-1] for i in r[0]]\n",
    "for o,i in zip(text,r):\n",
    "    print('{}\\t{}'.format(o,i))"
   ]
  },
  {
   "cell_type": "raw",
   "metadata": {},
   "source": [
    "\"\"\"隐马尔科夫模型三类问题：\n",
    "1.概率计算\n",
    "2.学习问题（参数估计）\n",
    "3.预测问题（状态序列的预测）\n",
    "\"\"\""
   ]
  },
  {
   "cell_type": "code",
   "execution_count": 1,
   "metadata": {
    "ExecuteTime": {
     "end_time": "2020-09-11T07:20:51.315992Z",
     "start_time": "2020-09-11T07:20:45.146152Z"
    }
   },
   "outputs": [],
   "source": [
    "import numpy as np\n",
    "from itertools import accumulate "
   ]
  },
  {
   "cell_type": "code",
   "execution_count": 2,
   "metadata": {
    "ExecuteTime": {
     "end_time": "2020-09-11T07:21:39.010273Z",
     "start_time": "2020-09-11T07:21:38.909519Z"
    }
   },
   "outputs": [],
   "source": [
    "def _locate(prob_arr):\n",
    "   # 给定概率向量，返回状态    seed = np.random.rand(1)\n",
    "   for state, cdf in enumerate(accumulate(prob_arr)):\n",
    "       if seed <= cdf:\n",
    "           return state\n",
    "   return "
   ]
  },
  {
   "cell_type": "code",
   "execution_count": 15,
   "metadata": {
    "ExecuteTime": {
     "end_time": "2020-09-11T07:42:03.665695Z",
     "start_time": "2020-09-11T07:42:03.629792Z"
    }
   },
   "outputs": [],
   "source": [
    "class GenData:\n",
    "   \"\"\"    根据隐马尔科夫模型生成相应的观测数据  \"\"\"\n",
    "def __init__(self, hmm, n_sample):\n",
    "        self.hmm = hmm\n",
    "        self.n_sample = n_sample\n",
    "def init_state(self):\n",
    "       # 根据初始状态概率向量，生成初始状态        return _locate(self.hmm.S)\n",
    "    def state_trans(self, current_state):\n",
    "       # 转移状态        return _locate(self.hmm.A[current_state])\n",
    "        def gen_obs(self, current_state):\n",
    "       # 生成观测        return _locate(self.hmm.B[current_state])\n",
    "            def gen_data(self):\n",
    "       # 根据模型产生观测数据        current_state = self.init_state()\n",
    "                start_obs = self.gen_obs(current_state)\n",
    "                state = [current_state]\n",
    "                obs = [start_obs]\n",
    "                n = 0        \n",
    "                while n < self.n_sample - 1:\n",
    "                    n += 1            \n",
    "                    current_state = self.state_trans(current_state)\n",
    "                    state.append(current_state)\n",
    "                    obs.append(self.gen_obs(current_state))\n",
    "                return state, obs  "
   ]
  },
  {
   "cell_type": "code",
   "execution_count": 16,
   "metadata": {
    "ExecuteTime": {
     "end_time": "2020-09-11T07:43:59.388227Z",
     "start_time": "2020-09-11T07:43:59.380248Z"
    }
   },
   "outputs": [],
   "source": [
    "class HMM:\n",
    "    def __init__(self, n_state, n_obs, S=None, A=None, B=None):\n",
    "        self.n_state = n_state  \n",
    "# 状态的个数n        self.n_obs = n_obs  # 观测的种类数m        self.S = S  # 1*n, 初始状态概率向量        self.A = A  # n*n, 状态转移概率矩阵        self.B = B  # n*m, 观测生成概率矩阵"
   ]
  },
  {
   "cell_type": "code",
   "execution_count": 18,
   "metadata": {
    "ExecuteTime": {
     "end_time": "2020-09-11T07:45:06.960716Z",
     "start_time": "2020-09-11T07:45:06.953738Z"
    }
   },
   "outputs": [],
   "source": [
    "def _alpha(hmm, obs, t):\n",
    "   # 计算时刻t各个状态的前向概率    b = hmm.B[:, obs[0]]\n",
    "    alpha = np.array([hmm.S * b])  # n*1    for i in range(1, t + 1):\n",
    "    alpha = (alpha @ hmm.A) * np.array([hmm.B[:, obs[i]]])\n",
    "    return alpha[0]"
   ]
  },
  {
   "cell_type": "code",
   "execution_count": 19,
   "metadata": {
    "ExecuteTime": {
     "end_time": "2020-09-11T07:45:19.757663Z",
     "start_time": "2020-09-11T07:45:19.752645Z"
    }
   },
   "outputs": [],
   "source": [
    "def forward_prob(hmm, obs):\n",
    "   # 前向算法计算最终生成观测序列的概率, 即各个状态下概率之和    alpha = _alpha(hmm, obs, len(obs) - 1)\n",
    "   return np.sum(alpha) "
   ]
  },
  {
   "cell_type": "code",
   "execution_count": 20,
   "metadata": {
    "ExecuteTime": {
     "end_time": "2020-09-11T07:45:35.118633Z",
     "start_time": "2020-09-11T07:45:35.111619Z"
    }
   },
   "outputs": [],
   "source": [
    "def _beta(hmm, obs, t):\n",
    "   # 计算时刻t各个状态的后向概率    beta = np.ones(hmm.n_state)\n",
    "   for i in reversed(range(t + 1, len(obs))):\n",
    "        beta = np.sum(hmm.A * hmm.B[:, obs[i]] * beta, axis=1)\n",
    "   return beta "
   ]
  },
  {
   "cell_type": "code",
   "execution_count": 21,
   "metadata": {
    "ExecuteTime": {
     "end_time": "2020-09-11T07:45:58.528424Z",
     "start_time": "2020-09-11T07:45:58.522441Z"
    }
   },
   "outputs": [],
   "source": [
    "def backward_prob(hmm, obs):\n",
    "   # 后向算法计算生成观测序列的概率    beta = _beta(hmm, obs, 0)\n",
    "   return np.sum(hmm.S * hmm.B[:, obs[0]] * beta) "
   ]
  },
  {
   "cell_type": "code",
   "execution_count": 28,
   "metadata": {
    "ExecuteTime": {
     "end_time": "2020-09-11T07:47:10.415953Z",
     "start_time": "2020-09-11T07:47:10.410965Z"
    }
   },
   "outputs": [],
   "source": [
    "def fb_prob(hmm, obs, t=None):\n",
    "   # 将前向和后向合并    if t is None:\n",
    "    t = 0    \n",
    "    res = _alpha(hmm, obs, t) * _beta(hmm, obs, t)\n",
    "    return res.sum() "
   ]
  },
  {
   "cell_type": "code",
   "execution_count": 29,
   "metadata": {
    "ExecuteTime": {
     "end_time": "2020-09-11T07:47:39.989540Z",
     "start_time": "2020-09-11T07:47:39.983557Z"
    }
   },
   "outputs": [],
   "source": [
    "def _gamma(hmm, obs, t):\n",
    "   # 计算时刻t处于各个状态的概率    alpha = _alpha(hmm, obs, t)\n",
    "    beta = _beta(hmm, obs, t)\n",
    "    prob = alpha * beta\n",
    "    return prob / prob.sum()"
   ]
  },
  {
   "cell_type": "code",
   "execution_count": 30,
   "metadata": {
    "ExecuteTime": {
     "end_time": "2020-09-11T07:48:01.851055Z",
     "start_time": "2020-09-11T07:48:01.846067Z"
    }
   },
   "outputs": [],
   "source": [
    "def point_prob(hmm, obs, t, i):\n",
    "   # 计算时刻t处于状态i的概率    prob = _gamma(hmm, obs, t)\n",
    "   return prob[i] "
   ]
  },
  {
   "cell_type": "code",
   "execution_count": 31,
   "metadata": {
    "ExecuteTime": {
     "end_time": "2020-09-11T07:48:16.138826Z",
     "start_time": "2020-09-11T07:48:16.132841Z"
    }
   },
   "outputs": [],
   "source": [
    "def _xi(hmm, obs, t):\n",
    "    alpha = np.mat(_alpha(hmm, obs, t))\n",
    "    beta_p = _beta(hmm, obs, t + 1)\n",
    "    obs_prob = hmm.B[:, obs[t + 1]]\n",
    "    obs_beta = np.mat(obs_prob * beta_p)\n",
    "    alpha_obs_beta = np.asarray(alpha.T * obs_beta)\n",
    "    xi = alpha_obs_beta * hmm.A\n",
    "    return xi / xi.sum() "
   ]
  },
  {
   "cell_type": "code",
   "execution_count": 33,
   "metadata": {
    "ExecuteTime": {
     "end_time": "2020-09-11T07:49:04.465840Z",
     "start_time": "2020-09-11T07:49:04.454870Z"
    }
   },
   "outputs": [],
   "source": [
    "def fit(hmm, obs_data, maxstep=100):\n",
    "   # 利用Baum-Welch算法学习    hmm.A = np.ones((hmm.n_state, hmm.n_state)) / hmm.n_state\n",
    "    hmm.B = np.ones((hmm.n_state, hmm.n_obs)) / hmm.n_obs\n",
    "    hmm.S = np.random.sample(hmm.n_state)  # 初始状态概率矩阵（向量），的初始化必须随机状态，否则容易陷入局部最优    hmm.S = hmm.S / hmm.S.sum()\n",
    "    step = 0    \n",
    "    while step < maxstep:\n",
    "        xi = np.zeros_like(hmm.A)\n",
    "        gamma = np.zeros_like(hmm.S)\n",
    "        B = np.zeros_like(hmm.B)\n",
    "        S = _gamma(hmm, obs_data, 0)\n",
    "        for t in range(len(obs_data) - 1):\n",
    "            tmp_gamma = _gamma(hmm, obs_data, t)\n",
    "            gamma += tmp_gamma\n",
    "            xi += _xi(hmm, obs_data, t)\n",
    "            B[:, obs_data[t]] += tmp_gamma\n",
    "       # 更新 A        for i in range(hmm.n_state):\n",
    "            hmm.A[i] = xi[i] / gamma[i]\n",
    "       # 更新 B        tmp_gamma_end = _gamma(hmm, obs_data, len(obs_data) - 1)\n",
    "        gamma += tmp_gamma_end\n",
    "        B[:, obs_data[-1]] += tmp_gamma_end\n",
    "        for i in range(hmm.n_state):\n",
    "            hmm.B[i] = B[i] / gamma[i]\n",
    "       # 更新 S        hmm.S = S\n",
    "        step += 1    \n",
    "        return hmm  "
   ]
  },
  {
   "cell_type": "code",
   "execution_count": 34,
   "metadata": {
    "ExecuteTime": {
     "end_time": "2020-09-11T07:50:02.634061Z",
     "start_time": "2020-09-11T07:50:02.626074Z"
    }
   },
   "outputs": [],
   "source": [
    "def predict(hmm, obs):\n",
    "   # 采用Viterbi算法预测状态序列    N = len(obs)\n",
    "    nodes_graph = np.zeros((hmm.n_state, N), dtype=int)  \n",
    "    # 存储时刻t且状态为i时， 前一个时刻t-1的状态，用于构建最终的状态序列    delta = hmm.S * hmm.B[:, obs[0]]  # 存储到t时刻，且此刻状态为i的最大概率    nodes_graph[:, 0] = range(hmm.n_state)\n",
    "    for t in range(1, N):\n",
    "        new_delta = []\n",
    "        for i in range(hmm.n_state):\n",
    "            temp = [hmm.A[j, i] * d for j, d in enumerate(delta)]  \n",
    "            # 当前状态为i时， 选取最优的前一时刻状态            max_d = max(temp)\n",
    "            new_delta.append(max_d * hmm.B[i, obs[t]])\n",
    "            nodes_graph[i, t] = temp.index(max_d)\n",
    "        delta = new_delta\n",
    "    current_state = np.argmax(nodes_graph[:, -1])\n",
    "    path = []\n",
    "    t = N\n",
    "    while t > 0:\n",
    "        path.append(current_state)\n",
    "        current_state = nodes_graph[current_state, t - 1]\n",
    "        t -= 1     \n",
    "        return list(reversed(path))"
   ]
  },
  {
   "cell_type": "code",
   "execution_count": 36,
   "metadata": {
    "ExecuteTime": {
     "end_time": "2020-09-11T07:50:54.592700Z",
     "start_time": "2020-09-11T07:50:54.575712Z"
    }
   },
   "outputs": [
    {
     "ename": "TypeError",
     "evalue": "GenData() takes no arguments",
     "output_type": "error",
     "traceback": [
      "\u001b[1;31m---------------------------------------------------------------------------\u001b[0m",
      "\u001b[1;31mTypeError\u001b[0m                                 Traceback (most recent call last)",
      "\u001b[1;32m<ipython-input-36-8d86cd00fae5>\u001b[0m in \u001b[0;36m<module>\u001b[1;34m\u001b[0m\n\u001b[0;32m      5\u001b[0m     \u001b[0mB\u001b[0m \u001b[1;33m=\u001b[0m \u001b[0mnp\u001b[0m\u001b[1;33m.\u001b[0m\u001b[0marray\u001b[0m\u001b[1;33m(\u001b[0m\u001b[1;33m[\u001b[0m\u001b[1;33m[\u001b[0m\u001b[1;36m0.2\u001b[0m\u001b[1;33m,\u001b[0m \u001b[1;36m0.0\u001b[0m\u001b[1;33m,\u001b[0m \u001b[1;36m0.8\u001b[0m\u001b[1;33m]\u001b[0m\u001b[1;33m,\u001b[0m \u001b[1;33m[\u001b[0m\u001b[1;36m0\u001b[0m\u001b[1;33m,\u001b[0m \u001b[1;36m0.8\u001b[0m\u001b[1;33m,\u001b[0m \u001b[1;36m0.2\u001b[0m\u001b[1;33m]\u001b[0m\u001b[1;33m]\u001b[0m\u001b[1;33m)\u001b[0m\u001b[1;33m\u001b[0m\u001b[1;33m\u001b[0m\u001b[0m\n\u001b[0;32m      6\u001b[0m     \u001b[0mhmm\u001b[0m \u001b[1;33m=\u001b[0m \u001b[0mHMM\u001b[0m\u001b[1;33m(\u001b[0m\u001b[1;36m2\u001b[0m\u001b[1;33m,\u001b[0m \u001b[1;36m3\u001b[0m\u001b[1;33m,\u001b[0m \u001b[0mS\u001b[0m\u001b[1;33m,\u001b[0m \u001b[0mA\u001b[0m\u001b[1;33m,\u001b[0m \u001b[0mB\u001b[0m\u001b[1;33m)\u001b[0m\u001b[1;33m\u001b[0m\u001b[1;33m\u001b[0m\u001b[0m\n\u001b[1;32m----> 7\u001b[1;33m     \u001b[0mg\u001b[0m \u001b[1;33m=\u001b[0m \u001b[0mGenData\u001b[0m\u001b[1;33m(\u001b[0m\u001b[0mhmm\u001b[0m\u001b[1;33m,\u001b[0m \u001b[1;36m200\u001b[0m\u001b[1;33m)\u001b[0m\u001b[1;33m\u001b[0m\u001b[1;33m\u001b[0m\u001b[0m\n\u001b[0m\u001b[0;32m      8\u001b[0m     \u001b[0mstate\u001b[0m\u001b[1;33m,\u001b[0m \u001b[0mobs\u001b[0m \u001b[1;33m=\u001b[0m \u001b[0mg\u001b[0m\u001b[1;33m.\u001b[0m\u001b[0mgen_data\u001b[0m\u001b[1;33m(\u001b[0m\u001b[1;33m)\u001b[0m\u001b[1;33m\u001b[0m\u001b[1;33m\u001b[0m\u001b[0m\n\u001b[0;32m      9\u001b[0m     \u001b[0mprint\u001b[0m\u001b[1;33m(\u001b[0m\u001b[0mobs\u001b[0m\u001b[1;33m)\u001b[0m\u001b[1;33m\u001b[0m\u001b[1;33m\u001b[0m\u001b[0m\n",
      "\u001b[1;31mTypeError\u001b[0m: GenData() takes no arguments"
     ]
    }
   ],
   "source": [
    "if __name__ == '__main__':\n",
    "   # 预测    \n",
    "    S = np.array([0.5, 0.5])\n",
    "    A = np.array([[0.8, 1], [0.8, 0.8]])\n",
    "    B = np.array([[0.2, 0.0, 0.8], [0, 0.8, 0.2]])\n",
    "    hmm = HMM(2, 3, S, A, B)\n",
    "    g = GenData(hmm, 200)\n",
    "    state, obs = g.gen_data()\n",
    "    print(obs)\n",
    "    path = predict(hmm, obs)\n",
    "    score = sum([int(i == j) for i, j in zip(state, path)])\n",
    "    print(score / len(path))  "
   ]
  },
  {
   "cell_type": "code",
   "execution_count": null,
   "metadata": {},
   "outputs": [],
   "source": []
  },
  {
   "cell_type": "code",
   "execution_count": 37,
   "metadata": {
    "ExecuteTime": {
     "end_time": "2020-09-11T09:05:21.719689Z",
     "start_time": "2020-09-11T09:05:21.560076Z"
    }
   },
   "outputs": [],
   "source": [
    "'''\n",
    "https://github.com/Eilene/HMM-python/blob/master/HMM.py\n",
    "实现隐马尔科夫模型的基本方法，\n",
    "输入为状态转移矩阵，观测矩阵，初始状态概率向量，观测序列\n",
    "实现前向算法和后向算法计算观测序列出现的概率\n",
    "实现维特比算法找当前观测序列下最可能的状态序列\n",
    "实现在给定模型和观测下，t时刻处于p状态的概率，t,p在main函数中指定\n",
    "'''\n",
    "from numpy import *\n",
    "\n",
    "class HMM:\n",
    "\n",
    "\tdef __init__(self):\n",
    "\t\tself.A=array([(0.1,0.4,0.5),(0.6,0.3,0.1)])\n",
    "\t\tself.B=array([(0.3,0.7),(0.6,0.4)])\n",
    "\t\tself.pi=array([(0.4),(0.6)])\n",
    "\t\tself.o=[0,1,0]\n",
    "\t\tself.t=len(self.o)#观测序列长度\n",
    "\t\tself.m=len(self.A)#状态集合个数\n",
    "\t\tself.n=len(self.B[0])#观测集合个数\n",
    "\n",
    "\tdef qianxiang(self):\n",
    "\t\t#t时刻部分观测序列为o1,o2,ot,状态为qi的概率用矩阵x表示，\n",
    "\t\t#则矩阵大小行数为观测序列数，列数为状态个数\n",
    "\t\tself.x=array(zeros((self.t,self.m)))\n",
    "\t\t#先计算出时刻1时，观测为o1,状态为qi的概率\n",
    "\t\tfor i in range(self.m):\n",
    "\t\t\tself.x[0][i]=self.pi[i]*self.B[i][self.o[0]]\n",
    "\t\tfor j in range(1,self.t):\n",
    "\t\t\tfor i in range(self.m):\n",
    "\t\t\t\t#前一时刻所有状态的概率乘以转移概率得到i状态概率\n",
    "\t\t\t\t#i状态的概率*i状态到j观测的概率\n",
    "\t\t\t\ttemp=0\n",
    "\t\t\t\tfor k in range(self.m):\n",
    "\t\t\t\t\ttemp=temp+self.x[j-1][k]*self.A[k][i]\n",
    "\t\t\t\tself.x[j][i]=temp*self.B[i][self.o[j]]\n",
    "\t\tresult=0\n",
    "\t\tfor i in range(self.m):\n",
    "\t\t\tresult=result+self.x[self.t-1][i]\n",
    "\t\tprint(\"前向概率矩阵及当前观测序列概率如下：\")\n",
    "\t\tprint(self.x)\n",
    "\t\tprint(result)\n",
    "\n",
    "\tdef houxiang(self):\n",
    "\t\t#t时刻状态为qi,从t+1到T观测为ot+1,ot+2,oT的概率用矩阵y表示\n",
    "\t\t#则矩阵大小行数为观测序列数，列数为状态个数\n",
    "\t\tself.y=array(zeros((self.t,self.m)))\n",
    "\t\t#下面为对最终时刻的所有状态，接下来的观测序列概率初始化为1\n",
    "\t\t#(可以理解为接下来没有观测所有为1)\n",
    "\t\tfor i in range(self.m):\n",
    "\t\t\tself.y[self.t-1][i]=1\n",
    "\t\tj=self.t-2\n",
    "\t\t#j时刻为i状态，转移到k状态，k状态观测为oj+1,\n",
    "\t\t#再乘以j+1时刻状态为k的B矩阵的值，对k遍历相加，\n",
    "\t\t#即为j时刻i状态前提下，后面满足观测序列的概率\n",
    "\t\twhile(j>=0):\n",
    "\t\t\tfor i in range(self.m):\n",
    "\t\t\t\tfor k in range(self.m):\n",
    "\t\t\t\t\tself.y[j][i]+=self.A[i][k]*self.B[k][self.o[j+1]]*self.y[j+1][k]\n",
    "\t\t\tj=j-1\n",
    "\t\t#第一个状态任意，观测为o1,所以对所有第一个状态概率相加\n",
    "\t\tresult=0\n",
    "\t\tfor i in range(self.m):\n",
    "\t\t\tresult=result+self.pi[i]*self.B[i][self.o[0]]*self.y[0][i]\n",
    "\t\tprint('后向概率矩阵及当前观测序列概率如下：')\n",
    "\t\tprint(self.y)\n",
    "\t\tprint(result)\n",
    "\n",
    "\tdef get_stateprobability(self,t,p):\n",
    "\t\t#打印在观测为self.o的前提下，t时刻，处于状态p的概率,\n",
    "\t\t#self.x[t][p]表示到t时刻观测为o1,o2,ot,状态为p的概率\n",
    "\t\t#self.y[t][p]表示在t时刻状态为p的前提下，接下来观测为ot+1,ot+2,oT的概率\n",
    "\t\t#self.x[t][p]*self.y[t][p]即表示观测为self.o，且t时刻处于状态p的概率,\n",
    "\t\t#利用贝叶斯公式，除以观测为self.o的概率即为所求\n",
    "\t\tif(t>self.t or p>self.m):\n",
    "\t\t\tprint(u'输入数据超过范围')\n",
    "\t\t\treturn\n",
    "\t\tprint('在时刻'+str(t)+u'处于状态'+str(p)+u'的概率是：')\n",
    "\t\ttemp=self.x[t-1][p-1]*self.y[t-1][p-1]\n",
    "\t\ttotal=0\n",
    "\t\tfor i in range(self.m):\n",
    "\t\t\ttotal=total+self.x[t-1][i]*self.y[t-1][i]\n",
    "\t\tprint(temp/total)\n",
    "\n",
    "\tdef viterbi(self):\n",
    "\t\t#利用模型和观测序列找出最优的状态序列\n",
    "\t\t#时刻t时，很多路径可以到达状态i,且观测为self.o,\n",
    "\t\t#每个路径都有自己的概率，最大的概率用矩阵z记录,前一个状态用d矩阵记录\n",
    "\t\tself.z=array(zeros((self.t,self.m)))\n",
    "\t\tself.d=array(zeros((self.t,self.m)))\n",
    "\t\tfor i in range(self.m):\n",
    "\t\t\tself.z[0][i]=self.pi[i]*self.B[i][self.o[0]]\n",
    "\t\t\tself.d[0][i]=0\n",
    "\t\tfor j in range(1,self.t):\n",
    "\t\t\tfor i in range(self.m):\n",
    "\t\t\t\tmaxnum=self.z[j-1][0]*self.A[0][i]\n",
    "\t\t\t\tnode=1\n",
    "\t\t\t\tfor k in range(1,self.m):\n",
    "\t\t\t\t\ttemp=self.z[j-1][k]*self.A[k][i]\n",
    "\t\t\t\t\tif(maxnum<temp):\n",
    "\t\t\t\t\t\tmaxnum=temp\n",
    "\t\t\t\t\t\tnode=k+1\n",
    "\t\t\t\tself.z[j][i]=maxnum*self.B[i][self.o[j]]\n",
    "\t\t\t\tself.d[j][i]=node\n",
    "\t\t#找到T时刻概率最大的路径\n",
    "\t\tmax_probability=self.z[self.t-1][0]\n",
    "\t\tlast_node=[1]\n",
    "\t\ttemp=0\n",
    "\t\tfor i in range(1,self.m):\n",
    "\t\t\tif(max_probability<self.z[self.t-1][i]):\n",
    "\t\t\t\tmax_probability=self.z[self.t-1][i]\n",
    "\t\t\t\tlast_node[0]=i+1\n",
    "\t\t\t\ttemp=i\n",
    "\t\ti=self.t-1\n",
    "\t\t#self.d[t][p],t时刻状态为p的时候，t-1时刻的状态\n",
    "\t\twhile(i>=1):\n",
    "\t\t\tlast_node.append(self.d[i][temp])\n",
    "\t\t\ti=i-1\n",
    "\t\ttemp=['o']\n",
    "\t\ttemp[0]=int(last_node[len(last_node)-1])\n",
    "\t\tj=len(last_node)-2\n",
    "\t\twhile j>=0:\n",
    "\t\t\ttemp.append(int(last_node[j]))\n",
    "\t\t\tj=j-1\n",
    "\t\tprint('路径节点分别为')\n",
    "\t\tprint(temp)\n",
    "\t\tprint('该路径概率为'+str(max_probability))"
   ]
  },
  {
   "cell_type": "code",
   "execution_count": 38,
   "metadata": {
    "ExecuteTime": {
     "end_time": "2020-09-11T09:05:36.362780Z",
     "start_time": "2020-09-11T09:05:36.258021Z"
    }
   },
   "outputs": [
    {
     "name": "stdout",
     "output_type": "stream",
     "text": [
      "前向概率矩阵及当前观测序列概率如下：\n",
      "[[0.12     0.36    ]\n",
      " [0.1596   0.0624  ]\n",
      " [0.01602  0.049536]]\n",
      "0.065556\n",
      "后向概率矩阵及当前观测序列概率如下：\n",
      "[[0.0765 0.1566]\n",
      " [0.27   0.36  ]\n",
      " [1.     1.    ]]\n",
      "0.065556\n",
      "输入数据超过范围\n",
      "路径节点分别为\n",
      "[2, 1, 2]\n",
      "该路径概率为0.036288\n"
     ]
    }
   ],
   "source": [
    "if __name__ == '__main__':\n",
    "\ttest=HMM()\n",
    "\ttest.qianxiang()\n",
    "\ttest.houxiang()\n",
    "\ttest.get_stateprobability(3,3)\n",
    "\ttest.viterbi() "
   ]
  },
  {
   "cell_type": "code",
   "execution_count": null,
   "metadata": {},
   "outputs": [],
   "source": []
  }
 ],
 "metadata": {
  "kernelspec": {
   "display_name": "Python 3",
   "language": "python",
   "name": "python3"
  },
  "language_info": {
   "codemirror_mode": {
    "name": "ipython",
    "version": 3
   },
   "file_extension": ".py",
   "mimetype": "text/x-python",
   "name": "python",
   "nbconvert_exporter": "python",
   "pygments_lexer": "ipython3",
   "version": "3.7.6"
  },
  "latex_envs": {
   "LaTeX_envs_menu_present": true,
   "autoclose": false,
   "autocomplete": true,
   "bibliofile": "biblio.bib",
   "cite_by": "apalike",
   "current_citInitial": 1,
   "eqLabelWithNumbers": true,
   "eqNumInitial": 1,
   "hotkeys": {
    "equation": "Ctrl-E",
    "itemize": "Ctrl-I"
   },
   "labels_anchors": false,
   "latex_user_defs": false,
   "report_style_numbering": false,
   "user_envs_cfg": false
  },
  "nbTranslate": {
   "displayLangs": [
    "*"
   ],
   "hotkey": "alt-t",
   "langInMainMenu": true,
   "sourceLang": "en",
   "targetLang": "fr",
   "useGoogleTranslate": true
  },
  "toc": {
   "base_numbering": 1,
   "nav_menu": {},
   "number_sections": true,
   "sideBar": true,
   "skip_h1_title": false,
   "title_cell": "Table of Contents",
   "title_sidebar": "Contents",
   "toc_cell": false,
   "toc_position": {},
   "toc_section_display": true,
   "toc_window_display": false
  }
 },
 "nbformat": 4,
 "nbformat_minor": 4
}
