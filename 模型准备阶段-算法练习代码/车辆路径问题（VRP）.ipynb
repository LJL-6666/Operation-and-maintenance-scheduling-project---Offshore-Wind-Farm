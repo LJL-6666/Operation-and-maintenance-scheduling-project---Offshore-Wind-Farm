{
 "cells": [
  {
   "cell_type": "raw",
   "metadata": {},
   "source": [
    "基于SA和LNS的自适应启发式算法求解车辆路径问题\n",
    "该程序为车辆定路问题提供了一种启发式的解决方案。该算法基于两个步骤。\n",
    "\n",
    "第一步采用一种改进的自适应模拟退火元启发式算法来最小化路径的数量。\n",
    "对基本SA进行改进，根据之前得到的解的质量自适应调整其搜索范围，\n",
    "也就是说，如果显著的改进没有重复出现，搜索广度和深度就会增加(反之亦然)。\n",
    "该自适应特征显著提高了算法的速度。\n",
    "\n",
    "第二部分，输入通过SA找到的解决方案，并通过一个大邻域搜索启发式最小化总运输成本。\n",
    "该算法被设计用于处理具有多个商店和日期的非常大的分销网络。\n",
    "该算法简单地解决了许多VRP算法在车队规模优化方面的不足。\n",
    "通过增加一个为卡车分配路线的机制，该算法能够作为其目标函数的一部分来优化车队规模。"
   ]
  },
  {
   "cell_type": "markdown",
   "metadata": {},
   "source": [
    "#  VRP算法:第1部分-带自适应邻域搜索的模拟退火"
   ]
  },
  {
   "cell_type": "code",
   "execution_count": 3,
   "metadata": {
    "ExecuteTime": {
     "end_time": "2020-08-26T03:12:56.498381Z",
     "start_time": "2020-08-26T03:12:42.283485Z"
    }
   },
   "outputs": [
    {
     "name": "stderr",
     "output_type": "stream",
     "text": [
      "\n",
      "Bad key \"text.kerning_factor\" on line 4 in\n",
      "E:\\Anaconda3\\lib\\site-packages\\matplotlib\\mpl-data\\stylelib\\_classic_test_patch.mplstyle.\n",
      "You probably need to get an updated matplotlibrc file from\n",
      "https://github.com/matplotlib/matplotlib/blob/v3.1.3/matplotlibrc.template\n",
      "or from the matplotlib source distribution\n"
     ]
    }
   ],
   "source": [
    "import csv\n",
    "import os, re\n",
    "import pandas, numpy\n",
    "from math import *\n",
    "import datetime\n",
    "import time\n",
    "#from HTMLParser import HTMLParser   \n",
    "import gmplot\n",
    "import geocoder\n",
    "import random\n",
    "import matplotlib.pyplot as plt\n",
    "import networkx as nx\n",
    "import copy, functools  "
   ]
  },
  {
   "cell_type": "code",
   "execution_count": 4,
   "metadata": {
    "ExecuteTime": {
     "end_time": "2020-08-26T03:18:59.476454Z",
     "start_time": "2020-08-26T03:18:59.465913Z"
    }
   },
   "outputs": [],
   "source": [
    "global customersplus, file_address, costs_achieved, costs_achievedII, customers, store_id, arcs,date, drive_time, dist_mtx,tg1removal,max_no_improvement"
   ]
  },
  {
   "cell_type": "code",
   "execution_count": 5,
   "metadata": {
    "ExecuteTime": {
     "end_time": "2020-08-26T03:19:12.884768Z",
     "start_time": "2020-08-26T03:19:12.823213Z"
    }
   },
   "outputs": [],
   "source": [
    "tg1removal=0 #  指示是否删除tg1\n",
    "temperature=100\n",
    "beta=2   #近邻选择绩效偏差\n",
    "max_iterations=50\n",
    "alpha=0.95\n",
    "NSize=5 # 邻域大小\n",
    "### Parameters\n",
    "store_id=0\n",
    "date=''\n",
    "#date='2020-08-25'\n",
    "service_time=0.25 #15minutes\n",
    "max_stopr\n",
    "wage=5\n",
    "driving_cost_per_km=0.25\n",
    "max_route_duration=12\n",
    "#\n",
    "p=2\n",
    "maxiter1=2\n",
    "maxiter2=5\n",
    "max_no_improvement=10\n",
    "\n",
    "try: os.chdir(\"G:\\\\CDO\\\\海上风电场\\\\LNS\\\\VRP-master\")\n",
    "except: os.chdir(\"G:\\\\CDO\\\\海上风电场\\\\LNS\\\\VRP-master\")"
   ]
  },
  {
   "cell_type": "code",
   "execution_count": 6,
   "metadata": {
    "ExecuteTime": {
     "end_time": "2020-08-26T03:21:38.691877Z",
     "start_time": "2020-08-26T03:21:38.677990Z"
    }
   },
   "outputs": [],
   "source": [
    "def dist(lat1,lon1,lat2,lon2):\n",
    "    if (lat1==lat2) and (lon2==lon1): return 0\n",
    "    else:  return acos(cos(radians(90-lat1))*cos(radians(90-lat2))+sin(radians(90-lat1))*sin(radians(90-lat2)) *cos(radians(lon1-lon2)))*6371*1.3  \n",
    "    # 乘以1.3，以考虑路网特征 "
   ]
  },
  {
   "cell_type": "code",
   "execution_count": 7,
   "metadata": {
    "ExecuteTime": {
     "end_time": "2020-08-26T03:21:50.707911Z",
     "start_time": "2020-08-26T03:21:50.694946Z"
    }
   },
   "outputs": [],
   "source": [
    "def network(adjacency_matrix):\n",
    "    mylabels=dict(zip(range(len(adjacency_matrix)),adjacency_matrix.columns)) #标签词典\n",
    "    rows, cols = numpy.where(adjacency_matrix == 1)\n",
    "    edges = zip(rows.tolist(), cols.tolist())\n",
    "    gr = nx.DiGraph()\n",
    "    gr.add_edges_from(edges)\n",
    "    nx.draw(gr, node_size=500, labels=mylabels, with_labels=True)\n",
    "    plt.show()  "
   ]
  },
  {
   "cell_type": "code",
   "execution_count": 8,
   "metadata": {
    "ExecuteTime": {
     "end_time": "2020-08-26T03:22:36.534896Z",
     "start_time": "2020-08-26T03:22:36.524952Z"
    }
   },
   "outputs": [],
   "source": [
    "def successor(arcs_mtx,i):\n",
    "    succ=arcs_mtx.columns[(arcs_mtx.loc[i,:]==1)]\n",
    "    if len(succ)==0:\n",
    "        return ''\n",
    "    else: return succ[0]    "
   ]
  },
  {
   "cell_type": "code",
   "execution_count": 9,
   "metadata": {
    "ExecuteTime": {
     "end_time": "2020-08-26T03:22:42.936921Z",
     "start_time": "2020-08-26T03:22:42.923954Z"
    }
   },
   "outputs": [],
   "source": [
    "def predecessor(arcs_mtx,i):\n",
    "    pred=arcs_mtx.columns[(arcs_mtx.loc[:,i]==1)]\n",
    "    if len(pred)==0: \n",
    "        print ('no predecessor!')\n",
    "        return ''\n",
    "    else: return pred [0]  "
   ]
  },
  {
   "cell_type": "code",
   "execution_count": 10,
   "metadata": {
    "ExecuteTime": {
     "end_time": "2020-08-26T03:22:54.180966Z",
     "start_time": "2020-08-26T03:22:54.122084Z"
    }
   },
   "outputs": [],
   "source": [
    "#解的表示\n",
    "#zeros_matrix = numpy.array([numpy.zeros(row_count+1)]*(row_count+1))\n",
    "def solution(arcs_mtx,printroute=False):\n",
    "    global temperature, beta, max_iterations, alpha, NSize, service_time, max_stops, wage,driving_cost_per_km,max_route_duration, customersplus, customers,store_id, drive_time, dist_mtx\n",
    "    arcs_mtx1=arcs_mtx.copy()\n",
    "    #### A. 初始化解决方案的矩阵\n",
    "    sol=pandas.DataFrame(index=customersplus,columns=['OrderID','Start_Time','End_Time','route','stop_number','arrival_time','drive_time','drive_distance','delivery_start','infeasible_flag','route_start_time','route_end_time','return_distance', 'route_duration'])\n",
    "    # 填写一些基本信息:订单id和TW\n",
    "    for ii in customers:\n",
    "        for col in ['OrderID','Start_Time','End_Time']:\n",
    "            sol.loc[ii,col]= orders[orders['Customer_ID2']==ii][col].iloc[0]\n",
    "\n",
    "    sol['infeasible_flag']=sol['route']=0\n",
    "    sol.loc[store_id,'Start_Time']=sol.loc[store_id,'arrival_time']= 7\n",
    "    sol.loc[store_id,'End_Time']= 23\n",
    "    \n",
    "    ### B. 沿着路线，创建解决方案，并检查可行性\n",
    "    for route_number in range(1,row_count+1):\n",
    "        # 找到路头\n",
    "        for i in customers:\n",
    "            if (arcs_mtx1.loc[store_id,i]==1) and (sol.loc[i,'route']==0):       \n",
    "                #跳过已经访问过或未链接到depo的内容\n",
    "                break\n",
    "            elif i==customers[row_count-1]:\n",
    "                if printroute: print ('\\nComplete!')\n",
    "                return sol      \n",
    "        \n",
    "        if printroute: print ('\\nroute', route_number, ': ',)\n",
    "        \n",
    "        prev=store_id\n",
    "        stop_number=1\n",
    "    \n",
    "        #  环行路线，寻找接班人\n",
    "        for stop_number in range(1,row_count+1):\n",
    "            if printroute: print (i),\n",
    "            sol.loc[i,'route']=route_number\n",
    "            \n",
    "            #  计算变量\n",
    "            sol.loc[i,'drive_time']= drive_time.loc[prev,i]  #  只是对于调试;删除后\n",
    "            sol.loc[i,'drive_distance']= dist_mtx.loc[prev,i]  #  只是对于调试;删除后\n",
    "            \n",
    "            if stop_number==1:\n",
    "                sol.loc[i,'route_start_time']= sol.loc[i,'End_Time']-drive_time.loc[prev,i]-service_time  \n",
    "                #   尽可能晚一点出发\n",
    "                sol.loc[i,'arrival_time']= sol.loc[i,'route_start_time']+ drive_time.loc[prev,i]\n",
    "                route_start_time=sol.loc[i,'route_start_time'] \n",
    "                #   节省开始时间\n",
    "            else:\n",
    "                sol.loc[i,'arrival_time']= sol.loc[prev,'arrival_time']+ drive_time.loc[prev,i] + service_time \n",
    "            \n",
    "            #  时间限制\n",
    "            delivery_start = max(sol.loc[i,'arrival_time'],sol.loc[i,'Start_Time'])\n",
    "            sol.loc[i,'delivery_start'] = delivery_start\n",
    "            if delivery_start > sol.loc[i,'End_Time']:  sol.loc[i,'infeasible_flag']=1 \n",
    "            # 根据时间窗口检查可行性\n",
    "        \n",
    "            #load constraints    载荷约束\n",
    "            sol.loc[i,'stop_number']=stop_number\n",
    "            if stop_number > max_stops: sol.loc[i,'infeasible_flag']=1 \n",
    "            # 检查路线上最大停站的可行性\n",
    "                        \n",
    "            prev=i\n",
    "            i=successor(arcs_mtx1,i)\n",
    "            # 找到路线结束\n",
    "            if i==store_id: \n",
    "                sol.loc[prev,'route_end_time']=sol.loc[prev,'arrival_time']+ drive_time.loc[prev,i] + service_time\n",
    "                sol.loc[prev,'return_distance']=dist_mtx.loc[prev,i]\n",
    "                sol.loc[prev,'route_duration']=sol.loc[prev,'route_end_time']-route_start_time\n",
    "                if sol.loc[prev,'route_duration']>max_route_duration:  sol.loc[prev,'infeasible_flag']=1 \n",
    "                # 检查路线持续时间的可行性\n",
    "                break\n",
    "    return sol   "
   ]
  },
  {
   "cell_type": "code",
   "execution_count": 11,
   "metadata": {
    "ExecuteTime": {
     "end_time": "2020-08-26T03:23:26.007112Z",
     "start_time": "2020-08-26T03:23:25.940293Z"
    }
   },
   "outputs": [],
   "source": [
    "def cost1(solution_mtx):\n",
    "    #solution_mtx=solution_mtx.copy()\n",
    "    NOrders=len(solution_mtx)-1\n",
    "    NRoutes=solution_mtx.route.max()\n",
    "    if NOrders/NRoutes<4: NTrucks=100\n",
    "    else: NTrucks=TruckCounter(solution_mtx)\n",
    "    #为了提高速度，不要在开始处理卡车数量\n",
    "    ### 计算站点分布的成本因素\n",
    "    \n",
    "    stops=list()\n",
    "    for r in range(1,NRoutes+1):\n",
    "        stops_on_route=solution_mtx[solution_mtx.route==r].stop_number.max()\n",
    "        stops.append(stops_on_route)\n",
    "    stops_cost_factor = sum([i**2 for i in stops])\n",
    "        \n",
    "    total_distance=solution_mtx['drive_distance'].sum(skipna=True) + solution_mtx['return_distance'].sum(skipna=True)\n",
    "    total_time=solution_mtx['route_duration'].sum(skipna=True)\n",
    "    shipping_cost=total_distance*driving_cost_per_km + total_time*wage + NTrucks*100\n",
    "    service_cost=NOrders*wage*service_time\n",
    "    \n",
    "    total_cost=NTrucks*10**10+NRoutes*10**8+(10**7-stops_cost_factor*10**4)+shipping_cost +service_cost  #give a large weight to Nroutes so that route number is minimized first\n",
    "    #print '\\nTotal Distance:',total_distance,'\\nTotal Time:',total_time,'\\nTotal Cost:',total_cost\n",
    "    return total_cost  "
   ]
  },
  {
   "cell_type": "code",
   "execution_count": 12,
   "metadata": {
    "ExecuteTime": {
     "end_time": "2020-08-26T03:24:18.753941Z",
     "start_time": "2020-08-26T03:24:18.741632Z"
    }
   },
   "outputs": [],
   "source": [
    "def cost2(solution_mtx):\n",
    "    global driving_cost_per_km, wage\n",
    "    #solution_mtx=solution_mtx.copy()\n",
    "    NRoutes=solution_mtx.route.max()\n",
    "    NTrucks=TruckCounter(solution_mtx)\n",
    "    NOrders=len(solution_mtx)-1\n",
    "    \n",
    "    total_distance=solution_mtx['drive_distance'].sum(skipna=True) + solution_mtx['return_distance'].sum(skipna=True)\n",
    "    total_time=solution_mtx['route_duration'].sum(skipna=True)\n",
    "    shipping_cost=total_distance*driving_cost_per_km + total_time*wage + NTrucks*100\n",
    "    service_cost=NOrders*wage*service_time\n",
    " \n",
    "    total_cost=NTrucks*10**8+NRoutes*10**6+shipping_cost + service_cost  \n",
    "    # 给Nroutes一个大的权重，这样路由数就会首先最小化\n",
    "    # print '\\nTotal Distance:',total_distance,'\\nTotal Time:',total_time,'\\nTotal Cost:',total_cost\n",
    "    return int(total_cost)   "
   ]
  },
  {
   "cell_type": "code",
   "execution_count": 13,
   "metadata": {
    "ExecuteTime": {
     "end_time": "2020-08-26T03:25:17.232312Z",
     "start_time": "2020-08-26T03:25:17.226332Z"
    }
   },
   "outputs": [],
   "source": [
    "def cost2_from_arcs(arcs_mtx):\n",
    "    return cost2(solution(arcs_mtx)) "
   ]
  },
  {
   "cell_type": "code",
   "execution_count": 14,
   "metadata": {
    "ExecuteTime": {
     "end_time": "2020-08-26T03:25:41.640127Z",
     "start_time": "2020-08-26T03:25:41.632189Z"
    }
   },
   "outputs": [],
   "source": [
    "def feasible(solution_mtx):\n",
    "    f=solution_mtx['infeasible_flag'].sum(skipna=True)\n",
    "    if f==0: return 1\n",
    "    elif f>0: return 0\n",
    "    else: return 'Error'  "
   ]
  },
  {
   "cell_type": "code",
   "execution_count": 15,
   "metadata": {
    "ExecuteTime": {
     "end_time": "2020-08-26T03:29:50.501274Z",
     "start_time": "2020-08-26T03:29:50.487418Z"
    }
   },
   "outputs": [],
   "source": [
    "#  功能:把i放到j后面\n",
    "def relocate(arcs_mtx,i,j):\n",
    "    arcs_new=arcs_mtx.copy()\n",
    "    # Take i from where it was \n",
    "    pred_i=predecessor(arcs_mtx,i)\n",
    "    succ_i=successor(arcs_mtx,i)\n",
    "    if pred_i!=succ_i: arcs_new.loc[pred_i,succ_i]=1             \n",
    "    # create an arc pred(i) -> succ(i) ; only if both are not the depo  \n",
    "    arcs_new.loc[i,succ_i]=0                              \n",
    "    # remove the arcs: pred(i) -> i and i -> succ(i)\n",
    "    arcs_new.loc[pred_i,i]=0\n",
    "    \n",
    "    # insert i after j   在j后面插入i\n",
    "    succ_j=successor(arcs_new,j)\n",
    "    arcs_new.loc[j,succ_j]=0\n",
    "    arcs_new.loc[j,i]=1\n",
    "    arcs_new.loc[i,succ_j]=1\n",
    "    \n",
    "    numpy.fill_diagonal(arcs_new.values, 0) \n",
    "    #set diagonal to zero  将对角线设为零\n",
    "    return arcs_new.astype(int)   "
   ]
  },
  {
   "cell_type": "code",
   "execution_count": 17,
   "metadata": {
    "ExecuteTime": {
     "end_time": "2020-08-26T03:37:12.071729Z",
     "start_time": "2020-08-26T03:37:12.045268Z"
    }
   },
   "outputs": [],
   "source": [
    "def Initialize():\n",
    "    global zips, allorders, orders, customers, customersplus, row_count,arcs, store_id, row_count,drive_time, dist_mtx, tg1removal\n",
    "    if tg1removal==1: \n",
    "        orders=allorders[allorders.tg1==0].copy()\n",
    "    else:\n",
    "        orders=allorders.copy()\n",
    "    orders=orders[(orders['Store_ID']==store_id) & (orders['Delivery Date']==date)]   # 选择存储和日期\n",
    "    orders['Customer_ID2']=1000+orders['Customer_ID'].astype('category').cat.codes   # 客户ID的分类编码\n",
    "    orders['Customer_ID2'].value_counts()   #频数分配表\n",
    "    \n",
    "    #merge with lat-long information from Sites.xlsx   与来自site .xlsx的latlong信息合并\n",
    "    merged=orders.merge(zips[zips['Type']=='Store'], left_on='PA_Zip',right_on='Zip', how='left')\n",
    "    #merged.Lat[merged.Lat.isnull()] #check\n",
    "    merged=merged.rename(columns={\"Lat\":\"PA_lat\",\"Long\":\"PA_lon\"})\n",
    "\n",
    "    merged=merged.merge(zips[zips['Type']=='Customer'], left_on='RA',right_on='Zip', how='left')\n",
    "    #merged.Lat[merged.Lat.isnull()] #check\n",
    "    merged=merged.rename(columns={\"Lat\":\"RA_lat\",\"Long\":\"RA_lon\",})    \n",
    "    orders=merged\n",
    "    \n",
    "    customers=orders.Customer_ID2.values.tolist()\n",
    "    customers=list(set(customers))\n",
    "    row_count=len(customers)\n",
    "    print ('Orders Count =',row_count)\n",
    "    customersplus=[store_id]+customers\n",
    "        \n",
    "    sites=orders[['Customer_ID2','RA_lat','RA_lon']]\n",
    "    sites.drop_duplicates(inplace=True)\n",
    "    sites['type']='C'\n",
    "    store_info=[store_id,orders[orders.Store_ID==store_id].PA_lat.iloc[0],orders[orders.Store_ID==store_id].PA_lon.iloc[0],'S']\n",
    "    sites.loc[-1]=store_info\n",
    "    sites.columns=['site_id','lat','lon','type']\n",
    "    sites.set_index('site_id', inplace=True)\n",
    "    sites\n",
    "\n",
    "    # 创建距离矩阵\n",
    "    zeros_matrix = numpy.array([numpy.zeros(row_count+1)]*(row_count+1)).astype(int)\n",
    "    dist_mtx=pandas.DataFrame(zeros_matrix,index=customersplus,columns=customersplus)\n",
    "    customersplus[customersplus==1026]\n",
    "    #print dist_mtx\n",
    "    for i in customersplus:\n",
    "        for j in customersplus:\n",
    "            #print i\n",
    "            #print j\n",
    "            lat1=sites.loc[i,'lat']\n",
    "            lon1=sites.loc[i,'lon']\n",
    "            lat2=sites.loc[j,'lat']\n",
    "            lon2=sites.loc[j,'lon']\n",
    "            dist_mtx.loc[i,j]=dist(lat1,lon1,lat2,lon2)\n",
    "        \n",
    "    # 创建驱动器时间矩阵\n",
    "    drive_time=dist_mtx.copy()\n",
    "    #print drive_time\n",
    "    for i in customersplus:\n",
    "        for j in customersplus:\n",
    "            d=dist_mtx.loc[i,j]\n",
    "            #print 'i=',i,'j=',j, 'd=',d\n",
    "            if d<50: \n",
    "                drive_time.loc[i,j]= d/36.0\n",
    "            else: \n",
    "                drive_time.loc[i,j]= 50/36.0+(d-50)/70.0\n",
    "    \n",
    "    # 创建初始解决方案\n",
    "    zeros_matrix = numpy.array([numpy.zeros(row_count+1)]*(row_count+1)).astype(int)\n",
    "    arcs=pandas.DataFrame(zeros_matrix,index=[store_id]+customers,columns=[store_id]+customers)\n",
    "    #arcs.loc[1001,1002]\n",
    "    arcs.iloc[0,1:]=1\n",
    "    arcs.iloc[1:,0]=1  "
   ]
  },
  {
   "cell_type": "code",
   "execution_count": 19,
   "metadata": {
    "ExecuteTime": {
     "end_time": "2020-08-26T03:41:31.849683Z",
     "start_time": "2020-08-26T03:41:31.835749Z"
    }
   },
   "outputs": [],
   "source": [
    "def neighborhood(arcs_mtx,size):\n",
    "    global customers\n",
    "    neighbors=list()\n",
    "    ns=min(size,len(customers)-1)   # 纠正社区大小\n",
    "    arcs_neighbor=arcs_mtx.copy()    # 初始化\n",
    "    sample=random.sample(customers, 1+ns) # 随机选择\n",
    "    #print 'Candidate Customer:',sample[0]\n",
    "    for j in sample[1:ns+1]:\n",
    "        i=sample[0]      \n",
    "        relocated=relocate(arcs_neighbor,i,j).copy()\n",
    "        #network(relocated)\n",
    "        arcs_neighbor=relocated\n",
    "        neighbors.append(arcs_neighbor)           \n",
    "        \n",
    "        print ('.',)\n",
    "\n",
    "    return neighbors   "
   ]
  },
  {
   "cell_type": "code",
   "execution_count": 22,
   "metadata": {
    "ExecuteTime": {
     "end_time": "2020-08-26T03:55:01.424779Z",
     "start_time": "2020-08-26T03:55:01.397856Z"
    }
   },
   "outputs": [],
   "source": [
    "def SA():\n",
    "    global temperature, beta, max_iterations, alpha, NSize, service_time, max_stops, wage,driving_cost_per_km,max_route_duration, customers, customersplus, best_arcs,best_cost\n",
    "    global dist_mtx,drive_time,orders,row_count,sites,arcs, costs_achieved\n",
    "    # 模拟退火算法\n",
    "    print ('\\n- Begin SA')\n",
    "    Initialize()\n",
    "    #print 'row_count=', row_count\n",
    "    originalNSize=NSize\n",
    "    best_arcs=arcs.copy()\n",
    "    best_cost=cost1(solution(best_arcs))\n",
    "    current_arcs=best_arcs.copy()\n",
    "    if len(best_arcs)<=2 : return best_arcs\n",
    "    #network(best_arcs)\n",
    "    costs_achieved=[best_cost]\n",
    "    no_improvement=0\n",
    "    empty_counter=0\n",
    "        \n",
    "    for iteration in range(max_iterations):\n",
    "        no_improvement+=1\n",
    "        if no_improvement>max_no_improvement: \n",
    "            print ('stopped due to no improvement')\n",
    "            return best_arcs\n",
    "        \n",
    "        try:\n",
    "            print ('Iteration',iteration,)      #' Best cost',best_cost,\n",
    "            if no_improvement>2 and iteration<max_iterations/2: NSize=min(NSize+5,15)    #扩大搜索\n",
    "            elif empty_counter/iteration>.3: NSize=min(NSize+5,15)\n",
    "            else: NSize=originalNSize        # 缩小搜索\n",
    "            \n",
    "            l=neighborhood(current_arcs, NSize)   # 创建社区\n",
    "            if len(l)>0 and feasible(solution(l[0]))==1: l=l+neighborhood(l[0], NSize)\n",
    "            \n",
    "#            neig_size=len(l)\n",
    "#            # 附近的助推器\n",
    "#            if no_improvement>2: l=l+neighborhood(current_arcs, NSize)\n",
    "                \n",
    "            l_solutions=map(solution,l)\n",
    "            l_feasible=map(feasible,l_solutions)\n",
    "            \n",
    "            # Delete infeasible neighbors   删除不可行的邻域\n",
    "            j=0\n",
    "            for items in range(len(l)):\n",
    "                if len(l)==0: break\n",
    "                if l_feasible[j]==0: \n",
    "                    del l_solutions[j]\n",
    "                    del l[j]\n",
    "                else:\n",
    "                    j+=1\n",
    "            # 如果没有可行的邻域\n",
    "            if len(l)==0: \n",
    "                print ('(neighborhood empty)') \n",
    "                empty_counter+=1\n",
    "                continue\n",
    "            \n",
    "            #network(current_arcs)\n",
    "            rank=map(cost1,l_solutions)     #计算成本\n",
    "            rank=pandas.DataFrame(rank,columns=['cost'])      #convert to DF\n",
    "            rank.sort_values('cost', ascending=True, inplace=True)       #领域的排名\n",
    "            #print 'rank:', rank\n",
    "            \n",
    "            current_cost=rank.iloc[0]['cost']\n",
    "            delta=best_cost-current_cost\n",
    "            if delta>0:\n",
    "                print ('Best Cost --->', current_cost)\n",
    "                best_arcs=l[rank.index[0]].copy()\n",
    "                best_cost=current_cost\n",
    "                current_arcs=l[rank.index[0]].copy()\n",
    "                \n",
    "                if delta>10**8: no_improvement=0 # 重置计数没有改进的nroute\n",
    "                #network(best_arcs)\n",
    "                #print '*'*50\n",
    "            else:\n",
    "                r=random.random()**beta \n",
    "                r=int(r*len(rank))    \n",
    "                # select random integer between 0 and Nsize => randomly select a neighbor     在0和Nsize =>之间选择一个随机整数\n",
    "                neighbor_cost=rank.iloc[r,0]\n",
    "                \n",
    "                delta=best_cost-neighbor_cost\n",
    "                if delta>=0: \n",
    "                    current_arcs=l[rank.index[r]].copy()   # 求所选邻居的弧矩阵\n",
    "                    current_cost=neighbor_cost\n",
    "                elif random.random()<=exp(delta/temperature): \n",
    "                    current_arcs=l[rank.index[r]].copy()\n",
    "                    current_cost=neighbor_cost\n",
    "                    \n",
    "            temperature=temperature*alpha\n",
    "            # 报告的\n",
    "                        #print 'Current Cost:',current_cost\n",
    "            costs_achieved.append(current_cost)\n",
    "        except Exception as e: \n",
    "            print (e)\n",
    "            print ('#')\n",
    "            pass\n",
    "    #print '*'*50\n",
    "    #l[rank.index[r]]\n",
    "    #print best_arcs\n",
    "    #print best_cost\n",
    "    #plt.plot(costs_achieved)\n",
    "    #plt.ylabel('cost')\n",
    "    #plt.show()\n",
    "    #network(best_arcs)\n",
    "    return best_arcs\n",
    "    "
   ]
  },
  {
   "cell_type": "markdown",
   "metadata": {},
   "source": [
    "# VRP算法，第2部分-大邻域搜索(LNS)"
   ]
  },
  {
   "cell_type": "code",
   "execution_count": 23,
   "metadata": {
    "ExecuteTime": {
     "end_time": "2020-08-26T06:26:01.228916Z",
     "start_time": "2020-08-26T06:26:01.220981Z"
    }
   },
   "outputs": [],
   "source": [
    "def TruckCounter(solution_mtx):\n",
    "    # create a summary schedule of routes with start and end times\n",
    "    solution_mtx=solution_mtx.sort_values(['route'])\n",
    "    sss=solution_mtx.groupby(by='route')['route_start_time'].max()\n",
    "    eee=solution_mtx.groupby(by='route')['route_end_time'].max()\n",
    "    routes_schedule=pandas.concat([sss, eee], axis=1)\n",
    "    routes_schedule=routes_schedule.sort_values(['route_start_time'])\n",
    "    routes_schedule['truck']=0\n",
    "    \n",
    "    #assign routes to trucks\n",
    "    for truck_count in range(1,len(routes_schedule)+1):\n",
    "        end=0\n",
    "        for r in routes_schedule.index: #find routes on the same truck\n",
    "            candidates=routes_schedule[(routes_schedule['route_start_time']>end) & (routes_schedule['truck']==0)]\n",
    "            if len(candidates)==0: break\n",
    "            current_route=candidates.index[0]  \n",
    "            routes_schedule.loc[current_route,'truck']=truck_count\n",
    "            end=routes_schedule.loc[current_route,'route_end_time']\n",
    "            #print 'current_route =',current_route\n",
    "\n",
    "    return routes_schedule.truck.max()"
   ]
  },
  {
   "cell_type": "code",
   "execution_count": 24,
   "metadata": {
    "ExecuteTime": {
     "end_time": "2020-08-26T06:26:23.112736Z",
     "start_time": "2020-08-26T06:26:23.105756Z"
    }
   },
   "outputs": [],
   "source": [
    "def relatedness(sol_df1, i,j):\n",
    "    global wage, dist_mtx\n",
    "    v=int(sol_df1.loc[i,'route']==sol_df1.loc[j,'route'])\n",
    "    c=dist_mtx.loc[i,j]*driving_cost_per_km+drive_time.loc[i,j]*wage\n",
    "    return 1/(c+v+.001) "
   ]
  },
  {
   "cell_type": "code",
   "execution_count": 25,
   "metadata": {
    "ExecuteTime": {
     "end_time": "2020-08-26T06:26:28.443579Z",
     "start_time": "2020-08-26T06:26:28.434604Z"
    }
   },
   "outputs": [],
   "source": [
    "def RemoveSet(base_list,removing_list):\n",
    "    A=copy.copy(base_list)\n",
    "    for i in removing_list:\n",
    "        A.remove(i)\n",
    "    return A "
   ]
  },
  {
   "cell_type": "code",
   "execution_count": 26,
   "metadata": {
    "ExecuteTime": {
     "end_time": "2020-08-26T06:30:07.283367Z",
     "start_time": "2020-08-26T06:30:07.273352Z"
    }
   },
   "outputs": [],
   "source": [
    "def SelectCustomers(solution_df, n):\n",
    "    S1=[random.choice(customers)]  # 初始化\n",
    "    for i in range(2,n+1):\n",
    "        C=random.choice(S1)\n",
    "        nonS1=RemoveSet(customers,S1) # 从客户处移除S\n",
    "        relatedness_ranking=sorted(nonS1, key=functools.partial(relatedness, solution_df,C),reverse=True) \n",
    "        # 根据与C的关系对nonS1客户进行排序\n",
    "        rank_number=int(random.random()**beta*len(nonS1))  # 选择一个偏随机相关节点\n",
    "        next_node=relatedness_ranking[rank_number]\n",
    "        S1.append(next_node)\n",
    "    return S1  "
   ]
  },
  {
   "cell_type": "code",
   "execution_count": 28,
   "metadata": {
    "ExecuteTime": {
     "end_time": "2020-08-26T06:32:09.792139Z",
     "start_time": "2020-08-26T06:32:09.780171Z"
    }
   },
   "outputs": [],
   "source": [
    "def neighborhood2(arcs_mtx,S,size):\n",
    "    #print S\n",
    "    for retry in range(1):              # 如果找不到可行的邻域，重试\n",
    "        neighbors=list()\n",
    "        nonS=RemoveSet(customers,S)\n",
    "        ns=min(size,len(nonS)-1)         # 纠正社区大小\n",
    "        arcs_neighbor=arcs_mtx.copy()    # 初始化\n",
    "        \n",
    "        for iter in range(ns):\n",
    "            relocated=arcs_neighbor.copy()\n",
    "            #print '... relocating',\n",
    "            for fromm in S:\n",
    "                to=random.choice(nonS)\n",
    "                relocated=relocate(relocated,fromm,to).copy()\n",
    "                \n",
    "            sol1=solution(relocated)\n",
    "        \n",
    "            if feasible(sol1):\n",
    "                #print '... relocating',fromm,'->',to,\n",
    "                #print 'cost=', cost2(sol1)\n",
    "                print ('.',)\n",
    "                arcs_neighbor=relocated.copy()\n",
    "                neighbors.append(arcs_neighbor)\n",
    "                #network(relocated)\n",
    "        if len(neighbors)>0: break\n",
    "    #print 'Neighborhood Size=',len(neighbors)\n",
    "    return neighbors"
   ]
  },
  {
   "cell_type": "code",
   "execution_count": 30,
   "metadata": {
    "ExecuteTime": {
     "end_time": "2020-08-26T06:37:23.212288Z",
     "start_time": "2020-08-26T06:37:23.196334Z"
    }
   },
   "outputs": [],
   "source": [
    "def LNS(arcs_mtx):\n",
    "    global costs_achievedII,max_no_improvement\n",
    "    best_arcsII=arcs_mtx.copy()\n",
    "    best_costII=cost2_from_arcs(best_arcsII)\n",
    "    costs_achievedII=[best_costII]\n",
    "    if len(best_arcsII)<=2 : return best_arcsII \n",
    "    # 如果只有1阶，就不需要求解\n",
    "    print ('\\n- Begin LNS','\\nstarting_cost=',best_costII)\n",
    "    #network(best_arcsII)\n",
    "    \n",
    "    no_improvement=0 \n",
    "    # 计数器的迭代次数小于1%的进步\n",
    "    \n",
    "    for iter1 in range(maxiter1):\n",
    "        for N in range(1,p+1):\n",
    "            for iter2 in range(maxiter2):\n",
    "                if no_improvement>max_no_improvement: \n",
    "                    print ('stopped due to no improvement!')\n",
    "                    return best_arcsII \n",
    "                # 如果经过10次迭代后，改进小于1%，则停止\n",
    "            \n",
    "                print ('IterI=','N=',N,iter1,'IterII=',iter2,)\n",
    "                S=SelectCustomers(solution(best_arcsII), N)\n",
    "                sizeLNS=min(4,len(customers)*len(S))\n",
    "                \n",
    "                NR=neighborhood2(arcs_mtx,S,sizeLNS)\n",
    "                \n",
    "                if len(NR)==0: \n",
    "                    no_improvement+=1\n",
    "                    continue\n",
    "                NR_ranking=sorted(NR, key=cost2_from_arcs)       # 备用成本\n",
    "                NR_best_cost=cost2_from_arcs(NR_ranking[0])      # 选择最好的\n",
    "                delta=best_costII-NR_best_cost\n",
    "                \n",
    "                if delta>0:\n",
    "                    print ('Best Cost Improved:',best_costII,)\n",
    "                    best_arcsII=NR_ranking[0]\n",
    "                    best_costII=NR_best_cost\n",
    "                    print ('->',best_costII)\n",
    "                    #network(best_arcsII)\n",
    "                    costs_achievedII.append(best_costII)\n",
    "                \n",
    "                \n",
    "                percent_improv=delta/(best_costII%(10**6)+0.000001)\n",
    "                # print 'delta=',delta,'denom=',(best_costII%(10**6)+0.000001),percent_improv,'% improved'\n",
    "                if percent_improv<0.01 : no_improvement+=1 \n",
    "                # 不足1%的计入\n",
    "                else: no_improvement=0\n",
    "                print ('no_improvement=',no_improvement)\n",
    "    print ('best_cost=',best_costII)\n",
    "    print (costs_achievedII)\n",
    "    #plt.plot(costs_achievedII)\n",
    "    #plt.ylabel('cost')\n",
    "    #plt.show()\n",
    "    return best_arcsII"
   ]
  },
  {
   "cell_type": "code",
   "execution_count": 31,
   "metadata": {
    "ExecuteTime": {
     "end_time": "2020-08-26T06:37:43.074230Z",
     "start_time": "2020-08-26T06:37:42.748367Z"
    }
   },
   "outputs": [
    {
     "ename": "FileNotFoundError",
     "evalue": "[Errno 2] No such file or directory: 'DID-Reduced Size Super Small.xlsx'",
     "output_type": "error",
     "traceback": [
      "\u001b[1;31m---------------------------------------------------------------------------\u001b[0m",
      "\u001b[1;31mFileNotFoundError\u001b[0m                         Traceback (most recent call last)",
      "\u001b[1;32m<ipython-input-31-668dfd6fc95a>\u001b[0m in \u001b[0;36m<module>\u001b[1;34m\u001b[0m\n\u001b[0;32m      1\u001b[0m \u001b[1;31m# 按存储区分解原来的大文件。\u001b[0m\u001b[1;33m\u001b[0m\u001b[1;33m\u001b[0m\u001b[1;33m\u001b[0m\u001b[0m\n\u001b[0;32m      2\u001b[0m \u001b[0mfile_address\u001b[0m\u001b[1;33m=\u001b[0m\u001b[1;34m'DID-Reduced Size Super Small.xlsx'\u001b[0m\u001b[1;33m\u001b[0m\u001b[1;33m\u001b[0m\u001b[0m\n\u001b[1;32m----> 3\u001b[1;33m \u001b[0mallorders\u001b[0m\u001b[1;33m=\u001b[0m\u001b[0mpandas\u001b[0m\u001b[1;33m.\u001b[0m\u001b[0mread_excel\u001b[0m\u001b[1;33m(\u001b[0m\u001b[0mfile_address\u001b[0m\u001b[1;33m)\u001b[0m\u001b[1;33m\u001b[0m\u001b[1;33m\u001b[0m\u001b[0m\n\u001b[0m\u001b[0;32m      4\u001b[0m \u001b[1;31m#stores=allorders.Store_ID.drop_duplicates().tolist()\u001b[0m\u001b[1;33m\u001b[0m\u001b[1;33m\u001b[0m\u001b[1;33m\u001b[0m\u001b[0m\n\u001b[0;32m      5\u001b[0m \u001b[1;31m#stores=sorted(stores)\u001b[0m\u001b[1;33m\u001b[0m\u001b[1;33m\u001b[0m\u001b[1;33m\u001b[0m\u001b[0m\n",
      "\u001b[1;32m~\\AppData\\Roaming\\Python\\Python37\\site-packages\\pandas\\io\\excel\\_base.py\u001b[0m in \u001b[0;36mread_excel\u001b[1;34m(io, sheet_name, header, names, index_col, usecols, squeeze, dtype, engine, converters, true_values, false_values, skiprows, nrows, na_values, keep_default_na, verbose, parse_dates, date_parser, thousands, comment, skipfooter, convert_float, mangle_dupe_cols, **kwds)\u001b[0m\n\u001b[0;32m    302\u001b[0m \u001b[1;33m\u001b[0m\u001b[0m\n\u001b[0;32m    303\u001b[0m     \u001b[1;32mif\u001b[0m \u001b[1;32mnot\u001b[0m \u001b[0misinstance\u001b[0m\u001b[1;33m(\u001b[0m\u001b[0mio\u001b[0m\u001b[1;33m,\u001b[0m \u001b[0mExcelFile\u001b[0m\u001b[1;33m)\u001b[0m\u001b[1;33m:\u001b[0m\u001b[1;33m\u001b[0m\u001b[1;33m\u001b[0m\u001b[0m\n\u001b[1;32m--> 304\u001b[1;33m         \u001b[0mio\u001b[0m \u001b[1;33m=\u001b[0m \u001b[0mExcelFile\u001b[0m\u001b[1;33m(\u001b[0m\u001b[0mio\u001b[0m\u001b[1;33m,\u001b[0m \u001b[0mengine\u001b[0m\u001b[1;33m=\u001b[0m\u001b[0mengine\u001b[0m\u001b[1;33m)\u001b[0m\u001b[1;33m\u001b[0m\u001b[1;33m\u001b[0m\u001b[0m\n\u001b[0m\u001b[0;32m    305\u001b[0m     \u001b[1;32melif\u001b[0m \u001b[0mengine\u001b[0m \u001b[1;32mand\u001b[0m \u001b[0mengine\u001b[0m \u001b[1;33m!=\u001b[0m \u001b[0mio\u001b[0m\u001b[1;33m.\u001b[0m\u001b[0mengine\u001b[0m\u001b[1;33m:\u001b[0m\u001b[1;33m\u001b[0m\u001b[1;33m\u001b[0m\u001b[0m\n\u001b[0;32m    306\u001b[0m         raise ValueError(\n",
      "\u001b[1;32m~\\AppData\\Roaming\\Python\\Python37\\site-packages\\pandas\\io\\excel\\_base.py\u001b[0m in \u001b[0;36m__init__\u001b[1;34m(self, io, engine)\u001b[0m\n\u001b[0;32m    819\u001b[0m         \u001b[0mself\u001b[0m\u001b[1;33m.\u001b[0m\u001b[0m_io\u001b[0m \u001b[1;33m=\u001b[0m \u001b[0mstringify_path\u001b[0m\u001b[1;33m(\u001b[0m\u001b[0mio\u001b[0m\u001b[1;33m)\u001b[0m\u001b[1;33m\u001b[0m\u001b[1;33m\u001b[0m\u001b[0m\n\u001b[0;32m    820\u001b[0m \u001b[1;33m\u001b[0m\u001b[0m\n\u001b[1;32m--> 821\u001b[1;33m         \u001b[0mself\u001b[0m\u001b[1;33m.\u001b[0m\u001b[0m_reader\u001b[0m \u001b[1;33m=\u001b[0m \u001b[0mself\u001b[0m\u001b[1;33m.\u001b[0m\u001b[0m_engines\u001b[0m\u001b[1;33m[\u001b[0m\u001b[0mengine\u001b[0m\u001b[1;33m]\u001b[0m\u001b[1;33m(\u001b[0m\u001b[0mself\u001b[0m\u001b[1;33m.\u001b[0m\u001b[0m_io\u001b[0m\u001b[1;33m)\u001b[0m\u001b[1;33m\u001b[0m\u001b[1;33m\u001b[0m\u001b[0m\n\u001b[0m\u001b[0;32m    822\u001b[0m \u001b[1;33m\u001b[0m\u001b[0m\n\u001b[0;32m    823\u001b[0m     \u001b[1;32mdef\u001b[0m \u001b[0m__fspath__\u001b[0m\u001b[1;33m(\u001b[0m\u001b[0mself\u001b[0m\u001b[1;33m)\u001b[0m\u001b[1;33m:\u001b[0m\u001b[1;33m\u001b[0m\u001b[1;33m\u001b[0m\u001b[0m\n",
      "\u001b[1;32m~\\AppData\\Roaming\\Python\\Python37\\site-packages\\pandas\\io\\excel\\_xlrd.py\u001b[0m in \u001b[0;36m__init__\u001b[1;34m(self, filepath_or_buffer)\u001b[0m\n\u001b[0;32m     19\u001b[0m         \u001b[0merr_msg\u001b[0m \u001b[1;33m=\u001b[0m \u001b[1;34m\"Install xlrd >= 1.0.0 for Excel support\"\u001b[0m\u001b[1;33m\u001b[0m\u001b[1;33m\u001b[0m\u001b[0m\n\u001b[0;32m     20\u001b[0m         \u001b[0mimport_optional_dependency\u001b[0m\u001b[1;33m(\u001b[0m\u001b[1;34m\"xlrd\"\u001b[0m\u001b[1;33m,\u001b[0m \u001b[0mextra\u001b[0m\u001b[1;33m=\u001b[0m\u001b[0merr_msg\u001b[0m\u001b[1;33m)\u001b[0m\u001b[1;33m\u001b[0m\u001b[1;33m\u001b[0m\u001b[0m\n\u001b[1;32m---> 21\u001b[1;33m         \u001b[0msuper\u001b[0m\u001b[1;33m(\u001b[0m\u001b[1;33m)\u001b[0m\u001b[1;33m.\u001b[0m\u001b[0m__init__\u001b[0m\u001b[1;33m(\u001b[0m\u001b[0mfilepath_or_buffer\u001b[0m\u001b[1;33m)\u001b[0m\u001b[1;33m\u001b[0m\u001b[1;33m\u001b[0m\u001b[0m\n\u001b[0m\u001b[0;32m     22\u001b[0m \u001b[1;33m\u001b[0m\u001b[0m\n\u001b[0;32m     23\u001b[0m     \u001b[1;33m@\u001b[0m\u001b[0mproperty\u001b[0m\u001b[1;33m\u001b[0m\u001b[1;33m\u001b[0m\u001b[0m\n",
      "\u001b[1;32m~\\AppData\\Roaming\\Python\\Python37\\site-packages\\pandas\\io\\excel\\_base.py\u001b[0m in \u001b[0;36m__init__\u001b[1;34m(self, filepath_or_buffer)\u001b[0m\n\u001b[0;32m    351\u001b[0m             \u001b[0mself\u001b[0m\u001b[1;33m.\u001b[0m\u001b[0mbook\u001b[0m \u001b[1;33m=\u001b[0m \u001b[0mself\u001b[0m\u001b[1;33m.\u001b[0m\u001b[0mload_workbook\u001b[0m\u001b[1;33m(\u001b[0m\u001b[0mfilepath_or_buffer\u001b[0m\u001b[1;33m)\u001b[0m\u001b[1;33m\u001b[0m\u001b[1;33m\u001b[0m\u001b[0m\n\u001b[0;32m    352\u001b[0m         \u001b[1;32melif\u001b[0m \u001b[0misinstance\u001b[0m\u001b[1;33m(\u001b[0m\u001b[0mfilepath_or_buffer\u001b[0m\u001b[1;33m,\u001b[0m \u001b[0mstr\u001b[0m\u001b[1;33m)\u001b[0m\u001b[1;33m:\u001b[0m\u001b[1;33m\u001b[0m\u001b[1;33m\u001b[0m\u001b[0m\n\u001b[1;32m--> 353\u001b[1;33m             \u001b[0mself\u001b[0m\u001b[1;33m.\u001b[0m\u001b[0mbook\u001b[0m \u001b[1;33m=\u001b[0m \u001b[0mself\u001b[0m\u001b[1;33m.\u001b[0m\u001b[0mload_workbook\u001b[0m\u001b[1;33m(\u001b[0m\u001b[0mfilepath_or_buffer\u001b[0m\u001b[1;33m)\u001b[0m\u001b[1;33m\u001b[0m\u001b[1;33m\u001b[0m\u001b[0m\n\u001b[0m\u001b[0;32m    354\u001b[0m         \u001b[1;32melif\u001b[0m \u001b[0misinstance\u001b[0m\u001b[1;33m(\u001b[0m\u001b[0mfilepath_or_buffer\u001b[0m\u001b[1;33m,\u001b[0m \u001b[0mbytes\u001b[0m\u001b[1;33m)\u001b[0m\u001b[1;33m:\u001b[0m\u001b[1;33m\u001b[0m\u001b[1;33m\u001b[0m\u001b[0m\n\u001b[0;32m    355\u001b[0m             \u001b[0mself\u001b[0m\u001b[1;33m.\u001b[0m\u001b[0mbook\u001b[0m \u001b[1;33m=\u001b[0m \u001b[0mself\u001b[0m\u001b[1;33m.\u001b[0m\u001b[0mload_workbook\u001b[0m\u001b[1;33m(\u001b[0m\u001b[0mBytesIO\u001b[0m\u001b[1;33m(\u001b[0m\u001b[0mfilepath_or_buffer\u001b[0m\u001b[1;33m)\u001b[0m\u001b[1;33m)\u001b[0m\u001b[1;33m\u001b[0m\u001b[1;33m\u001b[0m\u001b[0m\n",
      "\u001b[1;32m~\\AppData\\Roaming\\Python\\Python37\\site-packages\\pandas\\io\\excel\\_xlrd.py\u001b[0m in \u001b[0;36mload_workbook\u001b[1;34m(self, filepath_or_buffer)\u001b[0m\n\u001b[0;32m     34\u001b[0m             \u001b[1;32mreturn\u001b[0m \u001b[0mopen_workbook\u001b[0m\u001b[1;33m(\u001b[0m\u001b[0mfile_contents\u001b[0m\u001b[1;33m=\u001b[0m\u001b[0mdata\u001b[0m\u001b[1;33m)\u001b[0m\u001b[1;33m\u001b[0m\u001b[1;33m\u001b[0m\u001b[0m\n\u001b[0;32m     35\u001b[0m         \u001b[1;32melse\u001b[0m\u001b[1;33m:\u001b[0m\u001b[1;33m\u001b[0m\u001b[1;33m\u001b[0m\u001b[0m\n\u001b[1;32m---> 36\u001b[1;33m             \u001b[1;32mreturn\u001b[0m \u001b[0mopen_workbook\u001b[0m\u001b[1;33m(\u001b[0m\u001b[0mfilepath_or_buffer\u001b[0m\u001b[1;33m)\u001b[0m\u001b[1;33m\u001b[0m\u001b[1;33m\u001b[0m\u001b[0m\n\u001b[0m\u001b[0;32m     37\u001b[0m \u001b[1;33m\u001b[0m\u001b[0m\n\u001b[0;32m     38\u001b[0m     \u001b[1;33m@\u001b[0m\u001b[0mproperty\u001b[0m\u001b[1;33m\u001b[0m\u001b[1;33m\u001b[0m\u001b[0m\n",
      "\u001b[1;32mE:\\Anaconda3\\lib\\site-packages\\xlrd\\__init__.py\u001b[0m in \u001b[0;36mopen_workbook\u001b[1;34m(filename, logfile, verbosity, use_mmap, file_contents, encoding_override, formatting_info, on_demand, ragged_rows)\u001b[0m\n\u001b[0;32m    109\u001b[0m     \u001b[1;32melse\u001b[0m\u001b[1;33m:\u001b[0m\u001b[1;33m\u001b[0m\u001b[1;33m\u001b[0m\u001b[0m\n\u001b[0;32m    110\u001b[0m         \u001b[0mfilename\u001b[0m \u001b[1;33m=\u001b[0m \u001b[0mos\u001b[0m\u001b[1;33m.\u001b[0m\u001b[0mpath\u001b[0m\u001b[1;33m.\u001b[0m\u001b[0mexpanduser\u001b[0m\u001b[1;33m(\u001b[0m\u001b[0mfilename\u001b[0m\u001b[1;33m)\u001b[0m\u001b[1;33m\u001b[0m\u001b[1;33m\u001b[0m\u001b[0m\n\u001b[1;32m--> 111\u001b[1;33m         \u001b[1;32mwith\u001b[0m \u001b[0mopen\u001b[0m\u001b[1;33m(\u001b[0m\u001b[0mfilename\u001b[0m\u001b[1;33m,\u001b[0m \u001b[1;34m\"rb\"\u001b[0m\u001b[1;33m)\u001b[0m \u001b[1;32mas\u001b[0m \u001b[0mf\u001b[0m\u001b[1;33m:\u001b[0m\u001b[1;33m\u001b[0m\u001b[1;33m\u001b[0m\u001b[0m\n\u001b[0m\u001b[0;32m    112\u001b[0m             \u001b[0mpeek\u001b[0m \u001b[1;33m=\u001b[0m \u001b[0mf\u001b[0m\u001b[1;33m.\u001b[0m\u001b[0mread\u001b[0m\u001b[1;33m(\u001b[0m\u001b[0mpeeksz\u001b[0m\u001b[1;33m)\u001b[0m\u001b[1;33m\u001b[0m\u001b[1;33m\u001b[0m\u001b[0m\n\u001b[0;32m    113\u001b[0m     \u001b[1;32mif\u001b[0m \u001b[0mpeek\u001b[0m \u001b[1;33m==\u001b[0m \u001b[1;34mb\"PK\\x03\\x04\"\u001b[0m\u001b[1;33m:\u001b[0m \u001b[1;31m# a ZIP file\u001b[0m\u001b[1;33m\u001b[0m\u001b[1;33m\u001b[0m\u001b[0m\n",
      "\u001b[1;31mFileNotFoundError\u001b[0m: [Errno 2] No such file or directory: 'DID-Reduced Size Super Small.xlsx'"
     ]
    }
   ],
   "source": [
    "# 按存储区分解原来的大文件。\n",
    "file_address='DID-Reduced Size Super Small.xlsx'\n",
    "allorders=pandas.read_excel(file_address)\n",
    "#stores=allorders.Store_ID.drop_duplicates().tolist()\n",
    "#stores=sorted(stores)\n",
    "stores=[2, 3, 4, 6, 7, 8, 9, 11, 13, 203, 212, 460, 462, 463, 464]\n",
    "for store_id in stores:\n",
    "    subset=allorders[allorders.Store_ID==store_id].copy()\n",
    "    subset['Delivery Date']=subset['Delivery Date'].astype(str)\n",
    "    name= 'DID_'+str(store_id)+'.csv'\n",
    "    subset.to_csv(name) "
   ]
  },
  {
   "cell_type": "code",
   "execution_count": null,
   "metadata": {},
   "outputs": [],
   "source": [
    "# 创建摘要数据仓库来存储结果\n",
    "\n",
    "for store_id in stores:\n",
    "    filename='DID_'+str(store_id)\n",
    "    allorders=pandas.read_csv(filename+'.csv')\n",
    "    orders=allorders.copy()\n",
    "    \n",
    "    # 只选择有tg1订单的日期\n",
    "    alldates=allorders['Delivery Date'].drop_duplicates()\n",
    "    selected_dates=allorders.groupby(by=['Delivery Date'])['tg1'].max()\n",
    "    selected_dates=selected_dates[selected_dates==1].index\n",
    "    allorders=allorders[allorders['Delivery Date'].isin(selected_dates)]\n",
    "    \n",
    "    # 创建摘要数据框\n",
    "    iterables = [selected_dates,[0,1]]\n",
    "    ind=pandas.MultiIndex.from_product(iterables, names=['date', 'tg1removal']) # 创建一个多级索引\n",
    "    \n",
    "    summary=pandas.DataFrame(index=ind,columns=['store_id','raw_cost','actual_cost','N','status','Nroutes','NTrucks','CPO', 'ts'])\n",
    "    summary['status']=' '\n",
    "    summary['store_id']=store_id\n",
    "    summary.sort_index()\n",
    "    summary.to_csv(filename+'_summary.csv')\n",
    "    summary.head()"
   ]
  },
  {
   "cell_type": "code",
   "execution_count": null,
   "metadata": {},
   "outputs": [],
   "source": [
    "# 主循环\n",
    "\n",
    "zips=pandas.read_csv('Sites.csv')\n",
    "stores=[2, 3, 4, 6, 7, 8, 9, 11, 13, 203, 212, 460, 462, 463, 464]\n",
    "\n",
    "\n",
    "for store_id in stores:\n",
    "    Save=0\n",
    "    progress=0\n",
    "    CPO=-1    \n",
    "    # 负载输出文件\n",
    "    filename='DID_'+str(store_id)\n",
    "    summary=pandas.read_csv(filename+'_summary.csv', index_col=[0,1])\n",
    "    summary.head()\n",
    "    selected_dates=summary.index.get_level_values('date').unique().tolist() # 获得独特的日期\n",
    "    total_iterations=len(selected_dates)*2\n",
    "    allorders=pandas.read_csv(filename+'.csv')\n",
    "    orders=allorders.copy()\n",
    "\n",
    "    for date in selected_dates:\n",
    "        NSize=5\n",
    "        progress+=2\n",
    "        percent_progress=round(100*progress/(total_iterations+0.0),2)\n",
    "        \n",
    "        # 如果没有tg1，跳过\n",
    "        try:\n",
    "            y=allorders[(allorders['Store_ID']==store_id) & (allorders['Delivery Date']==date)]\n",
    "            #print 'y=',y\n",
    "            if len(y)==0:\n",
    "                node1=(date,0)\n",
    "                node2=(date,1)\n",
    "                summary.loc[node1,'N']= summary.loc[node2,'N']=0\n",
    "                summary.loc[node1,'status']=summary.loc[node2,'status']='skipped_no orders'\n",
    "                print 'skipped_no orders on', date, 'for store',store_id\n",
    "                continue\n",
    "            if y['tg1'].max()==0:\n",
    "                node1=(date,0)\n",
    "                node2=(date,1)\n",
    "                summary.loc[node1,'status']=summary.loc[node2,'status']='skipped_no tg1 orders'\n",
    "                print 'skipped_no tg1 orders on', date\n",
    "                continue\n",
    "                           \n",
    "            \n",
    "            for tg1removal in [0,1]:\n",
    "                print '*'*100,'\\n','*'*5,'store_id=',store_id,'date=',date, '(', len(selected_dates), 'days',percent_progress,'%)','\\n','*'*100\n",
    "                node=(date,tg1removal)\n",
    "                #summary.loc[node,'status']\n",
    "                Save=1 # Save indicator\n",
    "                if summary.loc[node,'status']!=' ': \n",
    "                    Save=0\n",
    "                    continue      # 如果已经完成就跳过\n",
    "                ts1=time.time() #time stamp\n",
    "                b=LNS(SA())\n",
    "                ts2=time.time() #time stamp\n",
    "          \n",
    "                ss=solution(b)\n",
    "                c=cost2(ss)\n",
    "                actual_cost=c%10**6\n",
    "                Nroutes=ss.route.max()\n",
    "                NTrucks=TruckCounter(ss)\n",
    "                NOrders=len(b)-1\n",
    "                CPO=actual_cost/NOrders\n",
    "                \n",
    "                summary.loc[node,'raw_cost']=c\n",
    "                summary.loc[node,'actual_cost']=actual_cost\n",
    "                summary.loc[node,'N']=NOrders\n",
    "                summary.loc[node,'status']='Complete'\n",
    "                summary.loc[node,'Nroutes']=Nroutes\n",
    "                summary.loc[node,'NTrucks']=NTrucks\n",
    "                summary.loc[node,'CPO']=CPO\n",
    "                summary.loc[node,'ts']=ts2-ts1\n",
    "                network(b)\n",
    "                print '\\nStore:',store_id,'\\tdate:',date, 'tg1removal:',tg1removal, 'N:',NOrders,'Nroutes:',Nroutes,'NTrucks:',NTrucks,'actual_cost:',actual_cost,'CPO:',CPO\n",
    "                #print summary[node:]\n",
    "                \n",
    "        except Exception as e:\n",
    "            #raise ValueError('A very specific bad thing happened')\n",
    "            node1=(date,0)\n",
    "            node2=(date,1)\n",
    "            print 'Error on', date, e\n",
    "            summary.loc[node1,'status']=summary.loc[node2,'status']=e\n",
    "            \n",
    "            pass\n",
    "        \n",
    "        \n",
    "        if Save==1:        # 每次计算新日期时保存文件\n",
    "            try: \n",
    "                summary.to_csv(filename+'_summary.csv')\n",
    "            except: \n",
    "                summary.to_csv('C:\\\\Users\\\\sgolara.ASURITE.000\\\\Desktop\\\\VRP\\\\'+filename+'_summary.csv')\n",
    "                print 'Dropbox locked. saved on desktop.'\n",
    "            print '(saved)','(',progress,'/',total_iterations,')'\n",
    "        \n",
    "        \n",
    "    print summary.status.head()\n",
    "    summary.to_csv(filename+'_summary.csv')\n",
    "    summary.to_csv('backup'+filename+'_summary.csv')\n"
   ]
  }
 ],
 "metadata": {
  "kernelspec": {
   "display_name": "Python 3",
   "language": "python",
   "name": "python3"
  },
  "language_info": {
   "codemirror_mode": {
    "name": "ipython",
    "version": 3
   },
   "file_extension": ".py",
   "mimetype": "text/x-python",
   "name": "python",
   "nbconvert_exporter": "python",
   "pygments_lexer": "ipython3",
   "version": "3.7.6"
  },
  "latex_envs": {
   "LaTeX_envs_menu_present": true,
   "autoclose": false,
   "autocomplete": true,
   "bibliofile": "biblio.bib",
   "cite_by": "apalike",
   "current_citInitial": 1,
   "eqLabelWithNumbers": true,
   "eqNumInitial": 1,
   "hotkeys": {
    "equation": "Ctrl-E",
    "itemize": "Ctrl-I"
   },
   "labels_anchors": false,
   "latex_user_defs": false,
   "report_style_numbering": false,
   "user_envs_cfg": false
  },
  "nbTranslate": {
   "displayLangs": [
    "*"
   ],
   "hotkey": "alt-t",
   "langInMainMenu": true,
   "sourceLang": "en",
   "targetLang": "fr",
   "useGoogleTranslate": true
  },
  "toc": {
   "base_numbering": 1,
   "nav_menu": {},
   "number_sections": true,
   "sideBar": true,
   "skip_h1_title": false,
   "title_cell": "Table of Contents",
   "title_sidebar": "Contents",
   "toc_cell": false,
   "toc_position": {
    "height": "calc(100% - 180px)",
    "left": "10px",
    "top": "150px",
    "width": "165px"
   },
   "toc_section_display": true,
   "toc_window_display": false
  }
 },
 "nbformat": 4,
 "nbformat_minor": 4
}
