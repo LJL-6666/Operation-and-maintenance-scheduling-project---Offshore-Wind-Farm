{
 "cells": [
  {
   "cell_type": "raw",
   "metadata": {},
   "source": [
    "实现隐马尔科夫模型的基本方法，\n",
    "输入为状态转移矩阵，观测矩阵，初始状态概率向量，观测序列\n",
    "实现前向算法和后向算法计算观测序列出现的概率\n",
    "实现维特比算法找当前观测序列下最可能的状态序列\n",
    "实现在给定模型和观测下，t时刻处于p状态的概率，t,p在main函数中指定"
   ]
  },
  {
   "cell_type": "raw",
   "metadata": {},
   "source": [
    "已知仅知道当天的天气状况，也就是第一天为晴朗。\n",
    "由之前的天气状况推测出30内晴朗的概率为0.3，高温的概率为0.5，沙暴的概率为0.2.\n",
    "第三关讲到10天内不会出现沙暴天气。由此可推测出三种天气的大概可能性分布。"
   ]
  },
  {
   "cell_type": "code",
   "execution_count": 1,
   "metadata": {
    "ExecuteTime": {
     "end_time": "2020-09-12T02:42:08.421616Z",
     "start_time": "2020-09-12T02:42:08.312908Z"
    }
   },
   "outputs": [],
   "source": [
    "from numpy import *\n",
    "\n",
    "class HMM:\n",
    "\n",
    "\tdef __init__(self):\n",
    "\t\tself.A=array([(0.3,0.5,0.2),(0.2,0.5,0.3)])\n",
    "\t\tself.B=array([(0.3,0.7),(0.8,0.2)])\n",
    "\t\tself.pi=array([(0.2),(0.8)])\n",
    "\t\tself.o=[0,1,0]\n",
    "\t\tself.t=len(self.o)#观测序列长度\n",
    "\t\tself.m=len(self.A)#状态集合个数\n",
    "\t\tself.n=len(self.B[0])#观测集合个数\n",
    "\n",
    "\tdef qianxiang(self):\n",
    "\t\t#t时刻部分观测序列为o1,o2,ot,状态为qi的概率用矩阵x表示，\n",
    "\t\t#则矩阵大小行数为观测序列数，列数为状态个数\n",
    "\t\tself.x=array(zeros((self.t,self.m)))\n",
    "\t\t#先计算出时刻1时，观测为o1,状态为qi的概率\n",
    "\t\tfor i in range(self.m):\n",
    "\t\t\tself.x[0][i]=self.pi[i]*self.B[i][self.o[0]]\n",
    "\t\tfor j in range(1,self.t):\n",
    "\t\t\tfor i in range(self.m):\n",
    "\t\t\t\t#前一时刻所有状态的概率乘以转移概率得到i状态概率\n",
    "\t\t\t\t#i状态的概率*i状态到j观测的概率\n",
    "\t\t\t\ttemp=0\n",
    "\t\t\t\tfor k in range(self.m):\n",
    "\t\t\t\t\ttemp=temp+self.x[j-1][k]*self.A[k][i]\n",
    "\t\t\t\tself.x[j][i]=temp*self.B[i][self.o[j]]\n",
    "\t\tresult=0\n",
    "\t\tfor i in range(self.m):\n",
    "\t\t\tresult=result+self.x[self.t-1][i]\n",
    "\t\tprint(\"前向概率矩阵及当前观测天气概率如下：\")\n",
    "\t\tprint(self.x)\n",
    "\t\tprint(result)\n",
    "\n",
    "\tdef houxiang(self):\n",
    "\t\t#t时刻状态为qi,从t+1到T观测为ot+1,ot+2,oT的概率用矩阵y表示\n",
    "\t\t#则矩阵大小行数为天气序列数，列数为状态个数\n",
    "\t\tself.y=array(zeros((self.t,self.m)))\n",
    "\t\t#下面为对最终时刻的所有状态，接下来的观测天气概率初始化为1\n",
    "\t\t#(可以理解为接下来没有观测所有为1)\n",
    "\t\tfor i in range(self.m):\n",
    "\t\t\tself.y[self.t-1][i]=1\n",
    "\t\tj=self.t-2\n",
    "\t\t#j时刻为i状态，转移到k状态，k状态观测为oj+1,\n",
    "\t\t#再乘以j+1时刻状态为k的B矩阵的值，对k遍历相加，\n",
    "\t\t#即为j时刻i状态前提下，后面满足观测序列的概率\n",
    "\t\twhile(j>=0):\n",
    "\t\t\tfor i in range(self.m):\n",
    "\t\t\t\tfor k in range(self.m):\n",
    "\t\t\t\t\tself.y[j][i]+=self.A[i][k]*self.B[k][self.o[j+1]]*self.y[j+1][k]\n",
    "\t\t\tj=j-1\n",
    "\t\t#第一个状态任意，观测为o1,所以对所有第一个状态概率相加\n",
    "\t\tresult=0\n",
    "\t\tfor i in range(self.m):\n",
    "\t\t\tresult=result+self.pi[i]*self.B[i][self.o[0]]*self.y[0][i]\n",
    "\t\tprint('后向概率矩阵及当前观测天气概率如下：')\n",
    "\t\tprint(self.y)\n",
    "\t\tprint(result)\n",
    "\n",
    "\tdef get_stateprobability(self,t,p):\n",
    "\t\t#打印在观测为self.o的前提下，t时刻，处于状态p的概率,\n",
    "\t\t#self.x[t][p]表示到t时刻观测为o1,o2,ot,状态为p的概率\n",
    "\t\t#self.y[t][p]表示在t时刻天气为p的前提下，接下来观测为ot+1,ot+2,oT的概率\n",
    "\t\t#self.x[t][p]*self.y[t][p]即表示观测为self.o，且t时刻处于状态p的概率,\n",
    "\t\t#利用贝叶斯公式，除以观测为self.o的概率即为所求\n",
    "\t\tif(t>self.t or p>self.m):\n",
    "\t\t\tprint(u'输入数据超过范围')\n",
    "\t\t\treturn\n",
    "\t\tprint('在天'+str(t)+u'处于状态'+str(p)+u'的概率是：')\n",
    "\t\ttemp=self.x[t-1][p-1]*self.y[t-1][p-1]\n",
    "\t\ttotal=0\n",
    "\t\tfor i in range(self.m):\n",
    "\t\t\ttotal=total+self.x[t-1][i]*self.y[t-1][i]\n",
    "\t\tprint(temp/total)\n",
    "\n",
    "\tdef viterbi(self):\n",
    "\t\t#利用模型和观测序列找出最优的天气序列\n",
    "\t\t#时刻t时，很多路径可以到达状态i,且观测为self.o,\n",
    "\t\t#每个路径都有自己的概率，最大的概率用矩阵z记录,前一个状态用d矩阵记录\n",
    "\t\tself.z=array(zeros((self.t,self.m)))\n",
    "\t\tself.d=array(zeros((self.t,self.m)))\n",
    "\t\tfor i in range(self.m):\n",
    "\t\t\tself.z[0][i]=self.pi[i]*self.B[i][self.o[0]]\n",
    "\t\t\tself.d[0][i]=0\n",
    "\t\tfor j in range(1,self.t):\n",
    "\t\t\tfor i in range(self.m):\n",
    "\t\t\t\tmaxnum=self.z[j-1][0]*self.A[0][i]\n",
    "\t\t\t\tnode=1\n",
    "\t\t\t\tfor k in range(1,self.m):\n",
    "\t\t\t\t\ttemp=self.z[j-1][k]*self.A[k][i]\n",
    "\t\t\t\t\tif(maxnum<temp):\n",
    "\t\t\t\t\t\tmaxnum=temp\n",
    "\t\t\t\t\t\tnode=k+1\n",
    "\t\t\t\tself.z[j][i]=maxnum*self.B[i][self.o[j]]\n",
    "\t\t\t\tself.d[j][i]=node\n",
    "\t\t#找到T时刻概率最大的路径\n",
    "\t\tmax_probability=self.z[self.t-1][0]\n",
    "\t\tlast_node=[1]\n",
    "\t\ttemp=0\n",
    "\t\tfor i in range(1,self.m):\n",
    "\t\t\tif(max_probability<self.z[self.t-1][i]):\n",
    "\t\t\t\tmax_probability=self.z[self.t-1][i]\n",
    "\t\t\t\tlast_node[0]=i+1\n",
    "\t\t\t\ttemp=i\n",
    "\t\ti=self.t-1\n",
    "\t\t#self.d[t][p],t时刻状态为p的时候，t-1时刻的状态\n",
    "\t\twhile(i>=1):\n",
    "\t\t\tlast_node.append(self.d[i][temp])\n",
    "\t\t\ti=i-1\n",
    "\t\ttemp=['o']\n",
    "\t\ttemp[0]=int(last_node[len(last_node)-1])\n",
    "\t\tj=len(last_node)-2\n",
    "\t\twhile j>=0:\n",
    "\t\t\ttemp.append(int(last_node[j]))\n",
    "\t\t\tj=j-1\n",
    "\t\tprint('路径节点分别为')\n",
    "\t\tprint(temp)\n",
    "\t\tprint('该路径天气概率为'+str(max_probability))"
   ]
  },
  {
   "cell_type": "code",
   "execution_count": 2,
   "metadata": {
    "ExecuteTime": {
     "end_time": "2020-09-12T02:42:13.469521Z",
     "start_time": "2020-09-12T02:42:13.381755Z"
    }
   },
   "outputs": [
    {
     "name": "stdout",
     "output_type": "stream",
     "text": [
      "前向概率矩阵及当前观测天气概率如下：\n",
      "[[0.06     0.64    ]\n",
      " [0.1022   0.07    ]\n",
      " [0.013398 0.06888 ]]\n",
      "0.08227800000000002\n",
      "后向概率矩阵及当前观测天气概率如下：\n",
      "[[0.1489 0.1146]\n",
      " [0.49   0.46  ]\n",
      " [1.     1.    ]]\n",
      "0.08227800000000002\n",
      "输入数据超过范围\n",
      "路径节点分别为\n",
      "[2, 1, 2]\n",
      "该路径天气概率为0.035840000000000004\n"
     ]
    }
   ],
   "source": [
    "if __name__ == '__main__':\n",
    "\ttest=HMM()\n",
    "\ttest.qianxiang()\n",
    "\ttest.houxiang()\n",
    "\ttest.get_stateprobability(30,30)\n",
    "\ttest.viterbi() "
   ]
  },
  {
   "cell_type": "code",
   "execution_count": null,
   "metadata": {},
   "outputs": [],
   "source": []
  }
 ],
 "metadata": {
  "kernelspec": {
   "display_name": "Python 3",
   "language": "python",
   "name": "python3"
  },
  "language_info": {
   "codemirror_mode": {
    "name": "ipython",
    "version": 3
   },
   "file_extension": ".py",
   "mimetype": "text/x-python",
   "name": "python",
   "nbconvert_exporter": "python",
   "pygments_lexer": "ipython3",
   "version": "3.7.6"
  },
  "latex_envs": {
   "LaTeX_envs_menu_present": true,
   "autoclose": false,
   "autocomplete": true,
   "bibliofile": "biblio.bib",
   "cite_by": "apalike",
   "current_citInitial": 1,
   "eqLabelWithNumbers": true,
   "eqNumInitial": 1,
   "hotkeys": {
    "equation": "Ctrl-E",
    "itemize": "Ctrl-I"
   },
   "labels_anchors": false,
   "latex_user_defs": false,
   "report_style_numbering": false,
   "user_envs_cfg": false
  },
  "nbTranslate": {
   "displayLangs": [
    "*"
   ],
   "hotkey": "alt-t",
   "langInMainMenu": true,
   "sourceLang": "en",
   "targetLang": "fr",
   "useGoogleTranslate": true
  },
  "toc": {
   "base_numbering": 1,
   "nav_menu": {},
   "number_sections": true,
   "sideBar": true,
   "skip_h1_title": false,
   "title_cell": "Table of Contents",
   "title_sidebar": "Contents",
   "toc_cell": false,
   "toc_position": {},
   "toc_section_display": true,
   "toc_window_display": false
  }
 },
 "nbformat": 4,
 "nbformat_minor": 4
}
