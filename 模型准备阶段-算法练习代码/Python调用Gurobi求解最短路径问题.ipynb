{
 "cells": [
  {
   "cell_type": "markdown",
   "metadata": {},
   "source": [
    "# Python调用Gurobi求解Multicommodity Network Flow Problem "
   ]
  },
  {
   "cell_type": "code",
   "execution_count": 1,
   "metadata": {
    "ExecuteTime": {
     "end_time": "2021-01-30T09:12:29.379178Z",
     "start_time": "2021-01-30T09:12:25.259360Z"
    }
   },
   "outputs": [],
   "source": [
    "from gurobipy import *\n",
    "import pandas as pd \n",
    "import numpy as np\n",
    "from pandas import Series, DataFrame\n",
    "import math "
   ]
  },
  {
   "cell_type": "code",
   "execution_count": 2,
   "metadata": {
    "ExecuteTime": {
     "end_time": "2021-01-30T09:12:31.480840Z",
     "start_time": "2021-01-30T09:12:31.466879Z"
    }
   },
   "outputs": [
    {
     "data": {
      "text/plain": [
       "{'1,2': [15, 15],\n",
       " '1,4': [25, 25],\n",
       " '1,3': [45, 45],\n",
       " '2,5': [30, 60],\n",
       " '2,4': [2, 2],\n",
       " '5,7': [2, 2],\n",
       " '4,7': [50, 100],\n",
       " '4,3': [2, 2],\n",
       " '3,6': [25, 50],\n",
       " '6,7': [1, 1]}"
      ]
     },
     "execution_count": 2,
     "metadata": {},
     "output_type": "execute_result"
    }
   ],
   "source": [
    "Arcs = {'1,2': [15, 15]    # cost flow \n",
    "        ,'1,4': [25, 25]\n",
    "        ,'1,3': [45, 45]\n",
    "        ,'2,5': [30, 60]\n",
    "        ,'2,4': [2, 2]\n",
    "        ,'5,7': [2, 2]\n",
    "        ,'4,7': [50, 100]\n",
    "        ,'4,3': [2, 2]\n",
    "        ,'3,6': [25, 50]\n",
    "        ,'6,7': [1, 1]\n",
    "       }\n",
    "Arcs "
   ]
  },
  {
   "cell_type": "code",
   "execution_count": 3,
   "metadata": {
    "ExecuteTime": {
     "end_time": "2021-01-30T09:12:32.690337Z",
     "start_time": "2021-01-30T09:12:32.677371Z"
    }
   },
   "outputs": [],
   "source": [
    "Nodes = [1, 2, 3, 4, 5, 6, 7] \n",
    "\n",
    "commodity = [[1, 7, 25],  # s_i, d_i, demand \n",
    "             [2, 6, 2]]"
   ]
  },
  {
   "cell_type": "code",
   "execution_count": 4,
   "metadata": {
    "ExecuteTime": {
     "end_time": "2021-01-30T09:12:34.022115Z",
     "start_time": "2021-01-30T09:12:33.822554Z"
    }
   },
   "outputs": [
    {
     "name": "stdout",
     "output_type": "stream",
     "text": [
      "Using license file E:\\Anaconda3\\win64\\gurobi.lic\n",
      "Warning: Gurobi version mismatch between Python 9.1.0 and C library 9.1.1\n"
     ]
    }
   ],
   "source": [
    "model = Model('MultiCommodity')  "
   ]
  },
  {
   "cell_type": "code",
   "execution_count": 5,
   "metadata": {
    "ExecuteTime": {
     "end_time": "2021-01-30T09:12:37.499761Z",
     "start_time": "2021-01-30T09:12:37.455207Z"
    }
   },
   "outputs": [],
   "source": [
    "# add variables \n",
    "X = {}\n",
    "for key in Arcs.keys():\n",
    "    for k in range(len(commodity)):\n",
    "        key_x = key + ',' + str(k)\n",
    "        X[key_x] = model.addVar(lb=0\n",
    "                                ,ub=Arcs[key][1]\n",
    "                                ,vtype=GRB.CONTINUOUS\n",
    "                                ,name= 'x_' + key_x \n",
    "                               ) "
   ]
  },
  {
   "cell_type": "code",
   "execution_count": 6,
   "metadata": {
    "ExecuteTime": {
     "end_time": "2021-01-30T09:12:39.629493Z",
     "start_time": "2021-01-30T09:12:39.599575Z"
    }
   },
   "outputs": [],
   "source": [
    "# add objective function \n",
    "obj = LinExpr(0)\n",
    "for key in Arcs.keys():\n",
    "    for k in range(len(commodity)):\n",
    "        key_x = key + ',' + str(k)\n",
    "        obj.addTerms(Arcs[key][0], X[key_x])\n",
    "model.setObjective(obj, GRB.MINIMIZE)"
   ]
  },
  {
   "cell_type": "code",
   "execution_count": 7,
   "metadata": {
    "ExecuteTime": {
     "end_time": "2021-01-30T09:12:43.270505Z",
     "start_time": "2021-01-30T09:12:43.247568Z"
    }
   },
   "outputs": [],
   "source": [
    "# constraints 1 \n",
    "for k in range(len(commodity)):\n",
    "    for i in Nodes:\n",
    "        lhs = LinExpr(0)\n",
    "        for key_x in X.keys():\n",
    "#             nodes = key_x.split(',')\n",
    "            if(i == (int)(key_x.split(',')[0]) and k == (int)(key_x.split(',')[2])):\n",
    "                lhs.addTerms(1, X[key_x])\n",
    "            if(i == (int)(key_x.split(',')[1]) and k == (int)(key_x.split(',')[2])):\n",
    "                lhs.addTerms(-1, X[key_x])\n",
    "        if(i == commodity[k][0]):\n",
    "            model.addConstr(lhs == commodity[k][2], name='org_, ' + str(i) + '_' + str(k))\n",
    "        elif(i == commodity[k][1]): \n",
    "            model.addConstr(lhs == -commodity[k][2], name='des_, ' + str(i) + '_' + str(k))\n",
    "        else:\n",
    "            model.addConstr(lhs == 0, name='inter_, ' + str(i) + '_' + str(k))\n",
    "            "
   ]
  },
  {
   "cell_type": "code",
   "execution_count": 8,
   "metadata": {
    "ExecuteTime": {
     "end_time": "2021-01-30T09:12:44.626236Z",
     "start_time": "2021-01-30T09:12:44.611309Z"
    }
   },
   "outputs": [],
   "source": [
    "# constraints 2  \n",
    "for key in Arcs.keys():\n",
    "    lhs = LinExpr(0)\n",
    "    for k in range(len(commodity)):\n",
    "        key_x = key + ',' + str(k)\n",
    "        lhs.addTerms(1, X[key_x])\n",
    "    model.addConstr(lhs <= Arcs[key][1], name = 'capacity_, ' + key) "
   ]
  },
  {
   "cell_type": "code",
   "execution_count": 9,
   "metadata": {
    "ExecuteTime": {
     "end_time": "2021-01-30T09:12:45.846575Z",
     "start_time": "2021-01-30T09:12:45.653017Z"
    }
   },
   "outputs": [
    {
     "name": "stdout",
     "output_type": "stream",
     "text": [
      "Warning: constraint name \"org_, 1_0\" has a space\n",
      "Gurobi Optimizer version 9.1.1 build v9.1.1rc0 (win64)\n",
      "Thread count: 4 physical cores, 8 logical processors, using up to 8 threads\n",
      "Optimize a model with 24 rows, 20 columns and 60 nonzeros\n",
      "Model fingerprint: 0xcc40d44b\n",
      "Coefficient statistics:\n",
      "  Matrix range     [1e+00, 1e+00]\n",
      "  Objective range  [1e+00, 5e+01]\n",
      "  Bounds range     [1e+00, 1e+02]\n",
      "  RHS range        [1e+00, 1e+02]\n",
      "Presolve removed 24 rows and 20 columns\n",
      "Presolve time: 0.04s\n",
      "Presolve: All rows and columns removed\n",
      "Iteration    Objective       Primal Inf.    Dual Inf.      Time\n",
      "       0    1.8730000e+03   0.000000e+00   0.000000e+00      0s\n",
      "\n",
      "Solved in 0 iterations and 0.08 seconds\n",
      "Optimal objective  1.873000000e+03\n"
     ]
    }
   ],
   "source": [
    "model.write('Multicommodity_model.lp')\n",
    "model.optimize()"
   ]
  },
  {
   "cell_type": "code",
   "execution_count": 10,
   "metadata": {
    "ExecuteTime": {
     "end_time": "2021-01-30T09:12:50.742606Z",
     "start_time": "2021-01-30T09:12:50.723658Z"
    }
   },
   "outputs": [
    {
     "name": "stdout",
     "output_type": "stream",
     "text": [
      "x_1,2,0 \t 2.0\n",
      "x_1,4,0 \t 22.0\n",
      "x_1,3,0 \t 1.0\n",
      "x_2,5,0 \t 2.0\n",
      "x_2,4,1 \t 2.0\n",
      "x_5,7,0 \t 2.0\n",
      "x_4,7,0 \t 22.0\n",
      "x_4,3,1 \t 2.0\n",
      "x_3,6,0 \t 1.0\n",
      "x_3,6,1 \t 2.0\n",
      "x_6,7,0 \t 1.0\n"
     ]
    }
   ],
   "source": [
    "for var in model.getVars():\n",
    "    if(var.x > 0):\n",
    "        print(var.varName, '\\t', var.x) "
   ]
  },
  {
   "cell_type": "code",
   "execution_count": 11,
   "metadata": {
    "ExecuteTime": {
     "end_time": "2021-01-30T09:12:53.239708Z",
     "start_time": "2021-01-30T09:12:53.188213Z"
    }
   },
   "outputs": [],
   "source": [
    "dual = model.getAttr(\"Pi\", model.getConstrs())"
   ]
  },
  {
   "cell_type": "code",
   "execution_count": 12,
   "metadata": {
    "ExecuteTime": {
     "end_time": "2021-01-30T09:13:07.793477Z",
     "start_time": "2021-01-30T09:13:07.780513Z"
    }
   },
   "outputs": [
    {
     "data": {
      "text/plain": [
       "[75.0,\n",
       " 60.0,\n",
       " 30.0,\n",
       " 50.0,\n",
       " 30.0,\n",
       " 5.0,\n",
       " 0.0,\n",
       " 0.0,\n",
       " 10.0,\n",
       " -20.0,\n",
       " 0.0,\n",
       " 0.0,\n",
       " -45.0,\n",
       " 0.0,\n",
       " 0.0,\n",
       " 0.0,\n",
       " 0.0,\n",
       " 0.0,\n",
       " -8.0,\n",
       " 0.0,\n",
       " 0.0,\n",
       " -18.0,\n",
       " 0.0,\n",
       " 0.0]"
      ]
     },
     "execution_count": 12,
     "metadata": {},
     "output_type": "execute_result"
    }
   ],
   "source": [
    "dual "
   ]
  },
  {
   "cell_type": "code",
   "execution_count": null,
   "metadata": {},
   "outputs": [],
   "source": []
  },
  {
   "cell_type": "code",
   "execution_count": null,
   "metadata": {},
   "outputs": [],
   "source": []
  }
 ],
 "metadata": {
  "hide_input": false,
  "kernelspec": {
   "display_name": "Python 3",
   "language": "python",
   "name": "python3"
  },
  "language_info": {
   "codemirror_mode": {
    "name": "ipython",
    "version": 3
   },
   "file_extension": ".py",
   "mimetype": "text/x-python",
   "name": "python",
   "nbconvert_exporter": "python",
   "pygments_lexer": "ipython3",
   "version": "3.7.6"
  },
  "latex_envs": {
   "LaTeX_envs_menu_present": true,
   "autoclose": false,
   "autocomplete": true,
   "bibliofile": "biblio.bib",
   "cite_by": "apalike",
   "current_citInitial": 1,
   "eqLabelWithNumbers": true,
   "eqNumInitial": 1,
   "hotkeys": {
    "equation": "Ctrl-E",
    "itemize": "Ctrl-I"
   },
   "labels_anchors": false,
   "latex_user_defs": false,
   "report_style_numbering": false,
   "user_envs_cfg": false
  },
  "nbTranslate": {
   "displayLangs": [
    "*"
   ],
   "hotkey": "alt-t",
   "langInMainMenu": true,
   "sourceLang": "en",
   "targetLang": "fr",
   "useGoogleTranslate": true
  },
  "toc": {
   "base_numbering": 1,
   "nav_menu": {},
   "number_sections": true,
   "sideBar": true,
   "skip_h1_title": false,
   "title_cell": "Table of Contents",
   "title_sidebar": "Contents",
   "toc_cell": false,
   "toc_position": {},
   "toc_section_display": true,
   "toc_window_display": false
  },
  "varInspector": {
   "cols": {
    "lenName": 16,
    "lenType": 16,
    "lenVar": 40
   },
   "kernels_config": {
    "python": {
     "delete_cmd_postfix": "",
     "delete_cmd_prefix": "del ",
     "library": "var_list.py",
     "varRefreshCmd": "print(var_dic_list())"
    },
    "r": {
     "delete_cmd_postfix": ") ",
     "delete_cmd_prefix": "rm(",
     "library": "var_list.r",
     "varRefreshCmd": "cat(var_dic_list()) "
    }
   },
   "types_to_exclude": [
    "module",
    "function",
    "builtin_function_or_method",
    "instance",
    "_Feature"
   ],
   "window_display": false
  }
 },
 "nbformat": 4,
 "nbformat_minor": 4
}
