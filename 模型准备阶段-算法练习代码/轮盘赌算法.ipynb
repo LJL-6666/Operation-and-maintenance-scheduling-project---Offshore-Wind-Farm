{
 "cells": [
  {
   "cell_type": "code",
   "execution_count": 1,
   "metadata": {
    "ExecuteTime": {
     "end_time": "2020-09-01T11:24:34.463735Z",
     "start_time": "2020-09-01T11:24:34.381907Z"
    }
   },
   "outputs": [],
   "source": [
    "import random\n",
    "def sum(fit_value):\n",
    "    total = 0\n",
    "    for i in range(len(fit_value)):\n",
    "        total += fit_value[i]\n",
    "    return total"
   ]
  },
  {
   "cell_type": "code",
   "execution_count": 2,
   "metadata": {
    "ExecuteTime": {
     "end_time": "2020-09-01T11:25:57.342449Z",
     "start_time": "2020-09-01T11:25:57.335467Z"
    }
   },
   "outputs": [],
   "source": [
    "# 累积概率计算\n",
    "# =============================================================================\n",
    "def cumsum(fit_value):\n",
    "    t = 0\n",
    "    for i in range(len(fit_value)):\n",
    "        t = t + fit_value[i]\n",
    "        fit_value[i] = t\n",
    "    return fit_value"
   ]
  },
  {
   "cell_type": "code",
   "execution_count": 4,
   "metadata": {
    "ExecuteTime": {
     "end_time": "2020-09-01T11:27:00.768581Z",
     "start_time": "2020-09-01T11:27:00.759605Z"
    }
   },
   "outputs": [],
   "source": [
    "# 轮盘赌算法\n",
    "# =============================================================================\n",
    "def ga_selection(pop, fit_value):\n",
    "    \n",
    "    #计算累积概率\n",
    "    newfit_value = []#存储每个个体的累积概率\n",
    "    # 适应度总和\n",
    "    total_fit = sum(fit_value)\n",
    "    for i in range(len(fit_value)):\n",
    "        #计算每个适应度占适应度总和的比例\n",
    "        newfit_value.append(fit_value[i] / total_fit)\n",
    "    # 计算累计概率\n",
    "    cumsum(newfit_value)\n",
    "    \n",
    "    #生成随机数序列用于选择和比较\n",
    "    ms = []#随机数序列\n",
    "    pop_len = len(pop)\n",
    "    for i in range(pop_len):\n",
    "        ms.append(random.random())\n",
    "    ms.sort()\n",
    "        \n",
    "    #轮盘赌选择法\n",
    "    fitin = 0\n",
    "    newin = 0\n",
    "    newpop = pop\n",
    "    while newin < pop_len:\n",
    "        #选择--累积概率大于随机概率\n",
    "        if(ms[newin] < newfit_value[fitin]):\n",
    "            newpop[newin] = pop[fitin]\n",
    "            newin = newin + 1\n",
    "        #不选择--累积概率小于随机概率\n",
    "        else:\n",
    "            fitin = fitin + 1\n",
    "    pop = newpop"
   ]
  },
  {
   "cell_type": "code",
   "execution_count": 5,
   "metadata": {
    "ExecuteTime": {
     "end_time": "2020-09-01T11:27:16.758592Z",
     "start_time": "2020-09-01T11:27:16.749544Z"
    }
   },
   "outputs": [
    {
     "name": "stdout",
     "output_type": "stream",
     "text": [
      "['b', 'b', 'b', 'e', 'e']\n"
     ]
    }
   ],
   "source": [
    "if __name__ == '__main__':\n",
    "    pop = ['a' ,'b', 'c', 'd', 'e']\n",
    "    obj = [1 ,3, 0, 2, 4]\n",
    "    #newfit_value = [0.1 , 0.4 , 0.4 , 0.6 , 1.0]\n",
    "    ga_selection(pop, obj)\n",
    "    print(pop)"
   ]
  },
  {
   "cell_type": "code",
   "execution_count": null,
   "metadata": {},
   "outputs": [],
   "source": []
  },
  {
   "cell_type": "code",
   "execution_count": 6,
   "metadata": {
    "ExecuteTime": {
     "end_time": "2020-09-01T11:34:54.195352Z",
     "start_time": "2020-09-01T11:34:47.510780Z"
    }
   },
   "outputs": [
    {
     "name": "stderr",
     "output_type": "stream",
     "text": [
      "\n",
      "Bad key \"text.kerning_factor\" on line 4 in\n",
      "E:\\Anaconda3\\lib\\site-packages\\matplotlib\\mpl-data\\stylelib\\_classic_test_patch.mplstyle.\n",
      "You probably need to get an updated matplotlibrc file from\n",
      "https://github.com/matplotlib/matplotlib/blob/v3.1.3/matplotlibrc.template\n",
      "or from the matplotlib source distribution\n"
     ]
    }
   ],
   "source": [
    "from __future__ import division\n",
    "import random\n",
    "from bisect import bisect_left\n",
    "import numpy as np\n",
    "import timeit\n",
    "import matplotlib.pyplot as plt "
   ]
  },
  {
   "cell_type": "code",
   "execution_count": 7,
   "metadata": {
    "ExecuteTime": {
     "end_time": "2020-09-01T11:36:03.550042Z",
     "start_time": "2020-09-01T11:36:03.479233Z"
    }
   },
   "outputs": [],
   "source": [
    "def basic(fitness):\n",
    "    '''\n",
    "    Input: a list of N fitness values (list or tuple)\n",
    "    Output: selected index\n",
    "    '''\n",
    "    sumFits = sum(fitness)\n",
    "    # generate a random number\n",
    "    rndPoint = random.uniform(0, sumFits)\n",
    "    # calculate the index: O(N)\n",
    "    accumulator = 0.0\n",
    "    for ind, val in enumerate(fitness):\n",
    "        accumulator += val\n",
    "        if accumulator >= rndPoint:\n",
    "            return ind\n",
    "\n",
    "\n",
    "\"\"\"\n",
    "Bisecting search roulette wheel selection: O(N + logN)\n",
    "\"\"\"\n",
    "def bisectSearch(fitness):\n",
    "    '''\n",
    "    Input: a list of N fitness values (list or tuple)\n",
    "    Output: selected index\n",
    "    '''\n",
    "    sumFits = sum(fitness)\n",
    "    # generate a random number\n",
    "    rndPoint = random.uniform(0, sumFits)\n",
    "    # calculate the accumulator: O(N)\n",
    "    accumulator = []\n",
    "    accsum = 0.0\n",
    "    for fit in fitness:\n",
    "        accsum += fit\n",
    "        accumulator.append(accsum)\n",
    "    return bisect_left(accumulator, rndPoint)   # O(logN)\n",
    "\n",
    "\n",
    "\"\"\"\n",
    "Stochastic Acceptance: O(1) if given the N and maxFit before\n",
    "\"\"\"\n",
    "def stochasticAccept(fitness):\n",
    "    '''\n",
    "    Input: a list of N fitness values (list or tuple)\n",
    "    Output: selected index\n",
    "    '''\n",
    "    # calculate N and max fitness value\n",
    "    N = len(fitness)\n",
    "    maxFit = max(fitness)\n",
    "    # select: O(1)\n",
    "    while True:\n",
    "        # randomly select an individual with uniform probability\n",
    "        ind = int(N * random.random())\n",
    "        # with probability wi/wmax to accept the selection\n",
    "        if random.random() <= fitness[ind] / maxFit:\n",
    "            return ind\n",
    "\n",
    "\n",
    "\"\"\"\n",
    "main function\n",
    "\"\"\"\n",
    "def main():\n",
    "    # init number of fitness values\n",
    "    N = [10, 10**2, 10**3, 10**4, 10**5]\n",
    "    # calculate average total run time for each algorithm\n",
    "    times = [[], [], []]\n",
    "    algos = [basic, bisectSearch, stochasticAccept]\n",
    "    for n in N:\n",
    "        fitness = np.random.random((n,))\n",
    "        for ind, algo in enumerate(algos):\n",
    "            sample_times = []\n",
    "            start = timeit.default_timer()\n",
    "            for _ in range(100):\n",
    "                algo(fitness)\n",
    "                sample_times.append(timeit.default_timer() - start)\n",
    "            times[ind].append(np.array(sample_times).mean())\n",
    "    # plot the result\n",
    "    lineStyle = ['b-o', 'g--p', 'r:*']\n",
    "    algoName = ['basic', 'bisectSearch', 'stochasticAccept']\n",
    "    for i in range(len(times)):\n",
    "        plt.loglog(N, times[i], lineStyle[i], label=algoName[i])\n",
    "    plt.legend(loc=2)\n",
    "    plt.title('log-log plot of average running time')\n",
    "    plt.xlabel('N')\n",
    "    plt.ylabel('Average Running Time')\n",
    "    plt.grid('on')\n",
    "    plt.show() "
   ]
  },
  {
   "cell_type": "code",
   "execution_count": 8,
   "metadata": {
    "ExecuteTime": {
     "end_time": "2020-09-01T11:36:44.009082Z",
     "start_time": "2020-09-01T11:36:30.430726Z"
    }
   },
   "outputs": [
    {
     "data": {
      "image/png": "[encoded data removed]",
      "text/plain": [
       "<Figure size 432x288 with 1 Axes>"
      ]
     },
     "metadata": {
      "needs_background": "light"
     },
     "output_type": "display_data"
    }
   ],
   "source": [
    "if __name__ == \"__main__\":\n",
    "    main()"
   ]
  },
  {
   "cell_type": "code",
   "execution_count": null,
   "metadata": {},
   "outputs": [],
   "source": []
  }
 ],
 "metadata": {
  "kernelspec": {
   "display_name": "Python 3",
   "language": "python",
   "name": "python3"
  },
  "language_info": {
   "codemirror_mode": {
    "name": "ipython",
    "version": 3
   },
   "file_extension": ".py",
   "mimetype": "text/x-python",
   "name": "python",
   "nbconvert_exporter": "python",
   "pygments_lexer": "ipython3",
   "version": "3.7.6"
  },
  "latex_envs": {
   "LaTeX_envs_menu_present": true,
   "autoclose": false,
   "autocomplete": true,
   "bibliofile": "biblio.bib",
   "cite_by": "apalike",
   "current_citInitial": 1,
   "eqLabelWithNumbers": true,
   "eqNumInitial": 1,
   "hotkeys": {
    "equation": "Ctrl-E",
    "itemize": "Ctrl-I"
   },
   "labels_anchors": false,
   "latex_user_defs": false,
   "report_style_numbering": false,
   "user_envs_cfg": false
  },
  "nbTranslate": {
   "displayLangs": [
    "*"
   ],
   "hotkey": "alt-t",
   "langInMainMenu": true,
   "sourceLang": "en",
   "targetLang": "fr",
   "useGoogleTranslate": true
  },
  "toc": {
   "base_numbering": 1,
   "nav_menu": {},
   "number_sections": true,
   "sideBar": true,
   "skip_h1_title": false,
   "title_cell": "Table of Contents",
   "title_sidebar": "Contents",
   "toc_cell": false,
   "toc_position": {},
   "toc_section_display": true,
   "toc_window_display": false
  }
 },
 "nbformat": 4,
 "nbformat_minor": 4
}
