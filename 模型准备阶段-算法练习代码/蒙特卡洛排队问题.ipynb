{
 "cells": [
  {
   "cell_type": "code",
   "execution_count": 1,
   "metadata": {
    "ExecuteTime": {
     "end_time": "2020-08-25T12:53:30.111367Z",
     "start_time": "2020-08-25T12:53:26.603446Z"
    }
   },
   "outputs": [],
   "source": [
    "import numpy as np"
   ]
  },
  {
   "cell_type": "code",
   "execution_count": 2,
   "metadata": {
    "ExecuteTime": {
     "end_time": "2020-08-25T12:53:44.403174Z",
     "start_time": "2020-08-25T12:53:44.354305Z"
    }
   },
   "outputs": [],
   "source": [
    "# 每个人到达队伍的时间，得到100个值\n",
    "arrival_time = np.random.uniform(0, 3, size=100)\n",
    "# 达到时间要排序，先来后到进行排队\n",
    "arrival_time.sort()\n",
    "# 排队时间为1~2分钟，得到100个值\n",
    "duration_time = np.random.uniform(1, 2, size=100)"
   ]
  },
  {
   "cell_type": "code",
   "execution_count": 3,
   "metadata": {
    "ExecuteTime": {
     "end_time": "2020-08-25T12:53:59.929767Z",
     "start_time": "2020-08-25T12:53:59.894860Z"
    }
   },
   "outputs": [],
   "source": [
    "# 每个人排队起始时间\n",
    "start_time = [0 for i in range(100)]\n",
    "# 每个人排队结束时间\n",
    "end_time = [0 for i in range(100)]\n",
    "# 每个人等待时间\n",
    "wait_time = [0 for i in range(100)]\n",
    "# 每个位置空闲时间\n",
    "empty_time = [0 for i in range(100)]"
   ]
  },
  {
   "cell_type": "code",
   "execution_count": 4,
   "metadata": {
    "ExecuteTime": {
     "end_time": "2020-08-25T12:54:30.545552Z",
     "start_time": "2020-08-25T12:54:30.537096Z"
    }
   },
   "outputs": [
    {
     "name": "stdout",
     "output_type": "stream",
     "text": [
      "97\n"
     ]
    }
   ],
   "source": [
    "# 位置数量\n",
    "queue_count = 50\n",
    "pre_person_index = len(arrival_time) - len(arrival_time) // queue_count - 1\n",
    "print(pre_person_index)"
   ]
  },
  {
   "cell_type": "code",
   "execution_count": 5,
   "metadata": {
    "ExecuteTime": {
     "end_time": "2020-08-25T12:55:56.319315Z",
     "start_time": "2020-08-25T12:55:56.264824Z"
    }
   },
   "outputs": [],
   "source": [
    "start_time[pre_person_index] = arrival_time[pre_person_index]\n",
    "end_time[pre_person_index] = start_time[pre_person_index] + duration_time[pre_person_index]\n",
    "wait_time[pre_person_index] = start_time[pre_person_index] - arrival_time[pre_person_index]"
   ]
  },
  {
   "cell_type": "code",
   "execution_count": 6,
   "metadata": {
    "ExecuteTime": {
     "end_time": "2020-08-25T12:56:36.234632Z",
     "start_time": "2020-08-25T12:56:36.180780Z"
    }
   },
   "outputs": [
    {
     "name": "stdout",
     "output_type": "stream",
     "text": [
      "1.3606345436583913\n",
      "2.39874293253394\n",
      "每个人的平均等待时间: 0.037594\n"
     ]
    }
   ],
   "source": [
    "for i in range(pre_person_index + 1, len(arrival_time)):\n",
    "    if end_time[i - 1] > arrival_time[i]:\n",
    "        start_time[i] = end_time[i - 1]\n",
    "    else:\n",
    "        start_time[i] = arrival_time[i]\n",
    "        empty_time[i] = start_time[i] - end_time[i - 1]\n",
    "\n",
    "    end_time[i] = start_time[i] + duration_time[i]\n",
    "    wait_time[i] = start_time[i] - arrival_time[i]\n",
    "    print(wait_time[i])\n",
    "\n",
    "print(\"每个人的平均等待时间: %f\" % np.mean(wait_time)) "
   ]
  },
  {
   "cell_type": "code",
   "execution_count": null,
   "metadata": {},
   "outputs": [],
   "source": []
  }
 ],
 "metadata": {
  "kernelspec": {
   "display_name": "Python 3",
   "language": "python",
   "name": "python3"
  },
  "language_info": {
   "codemirror_mode": {
    "name": "ipython",
    "version": 3
   },
   "file_extension": ".py",
   "mimetype": "text/x-python",
   "name": "python",
   "nbconvert_exporter": "python",
   "pygments_lexer": "ipython3",
   "version": "3.7.6"
  },
  "latex_envs": {
   "LaTeX_envs_menu_present": true,
   "autoclose": false,
   "autocomplete": true,
   "bibliofile": "biblio.bib",
   "cite_by": "apalike",
   "current_citInitial": 1,
   "eqLabelWithNumbers": true,
   "eqNumInitial": 1,
   "hotkeys": {
    "equation": "Ctrl-E",
    "itemize": "Ctrl-I"
   },
   "labels_anchors": false,
   "latex_user_defs": false,
   "report_style_numbering": false,
   "user_envs_cfg": false
  },
  "nbTranslate": {
   "displayLangs": [
    "*"
   ],
   "hotkey": "alt-t",
   "langInMainMenu": true,
   "sourceLang": "en",
   "targetLang": "fr",
   "useGoogleTranslate": true
  },
  "toc": {
   "base_numbering": 1,
   "nav_menu": {},
   "number_sections": true,
   "sideBar": true,
   "skip_h1_title": false,
   "title_cell": "Table of Contents",
   "title_sidebar": "Contents",
   "toc_cell": false,
   "toc_position": {},
   "toc_section_display": true,
   "toc_window_display": false
  }
 },
 "nbformat": 4,
 "nbformat_minor": 4
}
